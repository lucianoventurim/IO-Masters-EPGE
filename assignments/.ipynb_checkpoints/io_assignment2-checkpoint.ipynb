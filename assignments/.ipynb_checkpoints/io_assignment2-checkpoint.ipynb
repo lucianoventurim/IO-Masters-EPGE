{
 "cells": [
  {
   "cell_type": "markdown",
   "id": "9beb3f73",
   "metadata": {},
   "source": [
    "### Industrial Organization - Assignment 2\n",
    "##### Luciano Fabio Busatto Venturim\n",
    "##### 1st Quarter - 2022\n",
    "##### EPGE/FGV"
   ]
  },
  {
   "cell_type": "code",
   "execution_count": 212,
   "id": "f2fae8df",
   "metadata": {},
   "outputs": [],
   "source": [
    "import numpy as np\n",
    "import pandas as pd\n",
    "import linearmodels as lm\n",
    "from statsmodels.api import add_constant\n",
    "from scipy.optimize import minimize\n",
    "from numba import njit"
   ]
  },
  {
   "cell_type": "markdown",
   "id": "3135f743",
   "metadata": {},
   "source": [
    "### Part 1 - Setup"
   ]
  },
  {
   "cell_type": "code",
   "execution_count": 2,
   "id": "6b2f4f2f",
   "metadata": {},
   "outputs": [],
   "source": [
    "data = pd.read_csv('../data/io_assignment2_data.csv')"
   ]
  },
  {
   "cell_type": "markdown",
   "id": "5d380ab3",
   "metadata": {},
   "source": [
    "Creating the variable $c_{nt}$:"
   ]
  },
  {
   "cell_type": "code",
   "execution_count": 3,
   "id": "4683dfa1",
   "metadata": {},
   "outputs": [],
   "source": [
    "data['replacement'] = data['age'].transform(lambda x: 1 if x==0 else 0)\n",
    "data['replacement'] = data.groupby('Market')['replacement'].shift(-1)\n",
    "data.dropna(inplace=True) #for the last periods, we cannot know if the replacements were made.\n",
    "data['replacement'] = data['replacement'].astype('int')"
   ]
  },
  {
   "cell_type": "code",
   "execution_count": 4,
   "id": "88dc0c7b",
   "metadata": {},
   "outputs": [
    {
     "data": {
      "text/html": [
       "<div>\n",
       "<style scoped>\n",
       "    .dataframe tbody tr th:only-of-type {\n",
       "        vertical-align: middle;\n",
       "    }\n",
       "\n",
       "    .dataframe tbody tr th {\n",
       "        vertical-align: top;\n",
       "    }\n",
       "\n",
       "    .dataframe thead th {\n",
       "        text-align: right;\n",
       "    }\n",
       "</style>\n",
       "<table border=\"1\" class=\"dataframe\">\n",
       "  <thead>\n",
       "    <tr style=\"text-align: right;\">\n",
       "      <th></th>\n",
       "      <th>Market</th>\n",
       "      <th>MarketSize</th>\n",
       "      <th>t</th>\n",
       "      <th>age</th>\n",
       "      <th>replacement</th>\n",
       "    </tr>\n",
       "  </thead>\n",
       "  <tbody>\n",
       "    <tr>\n",
       "      <th>0</th>\n",
       "      <td>1</td>\n",
       "      <td>1.2</td>\n",
       "      <td>1</td>\n",
       "      <td>0</td>\n",
       "      <td>0</td>\n",
       "    </tr>\n",
       "    <tr>\n",
       "      <th>1</th>\n",
       "      <td>1</td>\n",
       "      <td>1.2</td>\n",
       "      <td>2</td>\n",
       "      <td>1</td>\n",
       "      <td>0</td>\n",
       "    </tr>\n",
       "    <tr>\n",
       "      <th>2</th>\n",
       "      <td>1</td>\n",
       "      <td>1.2</td>\n",
       "      <td>3</td>\n",
       "      <td>2</td>\n",
       "      <td>0</td>\n",
       "    </tr>\n",
       "    <tr>\n",
       "      <th>3</th>\n",
       "      <td>1</td>\n",
       "      <td>1.2</td>\n",
       "      <td>4</td>\n",
       "      <td>3</td>\n",
       "      <td>1</td>\n",
       "    </tr>\n",
       "    <tr>\n",
       "      <th>4</th>\n",
       "      <td>1</td>\n",
       "      <td>1.2</td>\n",
       "      <td>5</td>\n",
       "      <td>0</td>\n",
       "      <td>0</td>\n",
       "    </tr>\n",
       "    <tr>\n",
       "      <th>5</th>\n",
       "      <td>1</td>\n",
       "      <td>1.2</td>\n",
       "      <td>6</td>\n",
       "      <td>1</td>\n",
       "      <td>0</td>\n",
       "    </tr>\n",
       "    <tr>\n",
       "      <th>6</th>\n",
       "      <td>1</td>\n",
       "      <td>1.2</td>\n",
       "      <td>7</td>\n",
       "      <td>2</td>\n",
       "      <td>1</td>\n",
       "    </tr>\n",
       "    <tr>\n",
       "      <th>7</th>\n",
       "      <td>1</td>\n",
       "      <td>1.2</td>\n",
       "      <td>8</td>\n",
       "      <td>0</td>\n",
       "      <td>0</td>\n",
       "    </tr>\n",
       "    <tr>\n",
       "      <th>8</th>\n",
       "      <td>1</td>\n",
       "      <td>1.2</td>\n",
       "      <td>9</td>\n",
       "      <td>1</td>\n",
       "      <td>0</td>\n",
       "    </tr>\n",
       "    <tr>\n",
       "      <th>9</th>\n",
       "      <td>1</td>\n",
       "      <td>1.2</td>\n",
       "      <td>10</td>\n",
       "      <td>2</td>\n",
       "      <td>0</td>\n",
       "    </tr>\n",
       "  </tbody>\n",
       "</table>\n",
       "</div>"
      ],
      "text/plain": [
       "   Market  MarketSize   t  age  replacement\n",
       "0       1         1.2   1    0            0\n",
       "1       1         1.2   2    1            0\n",
       "2       1         1.2   3    2            0\n",
       "3       1         1.2   4    3            1\n",
       "4       1         1.2   5    0            0\n",
       "5       1         1.2   6    1            0\n",
       "6       1         1.2   7    2            1\n",
       "7       1         1.2   8    0            0\n",
       "8       1         1.2   9    1            0\n",
       "9       1         1.2  10    2            0"
      ]
     },
     "execution_count": 4,
     "metadata": {},
     "output_type": "execute_result"
    }
   ],
   "source": [
    "data.head(10)"
   ]
  },
  {
   "cell_type": "markdown",
   "id": "56aba9d1",
   "metadata": {},
   "source": [
    "Now, we run a linear probability model."
   ]
  },
  {
   "cell_type": "code",
   "execution_count": 5,
   "id": "f75563d5",
   "metadata": {},
   "outputs": [
    {
     "name": "stderr",
     "output_type": "stream",
     "text": [
      "E:\\Anaconda3\\lib\\site-packages\\statsmodels\\tsa\\tsatools.py:142: FutureWarning: In a future version of pandas all arguments of concat except for the argument 'objs' will be keyword-only\n",
      "  x = pd.concat(x[::order], 1)\n"
     ]
    }
   ],
   "source": [
    "lpm = lm.IV2SLS(data['replacement'],add_constant(data[['MarketSize','age']]),None,None).fit()"
   ]
  },
  {
   "cell_type": "code",
   "execution_count": 6,
   "id": "86ddad4c",
   "metadata": {},
   "outputs": [
    {
     "name": "stdout",
     "output_type": "stream",
     "text": [
      "                            OLS Estimation Summary                            \n",
      "==============================================================================\n",
      "Dep. Variable:            replacement   R-squared:                      0.1748\n",
      "Estimator:                        OLS   Adj. R-squared:                 0.1739\n",
      "No. Observations:                1900   F-statistic:                    353.63\n",
      "Date:                Mon, Mar 14 2022   P-value (F-stat)                0.0000\n",
      "Time:                        17:15:01   Distribution:                  chi2(2)\n",
      "Cov. Estimator:                robust                                         \n",
      "                                                                              \n",
      "                             Parameter Estimates                              \n",
      "==============================================================================\n",
      "            Parameter  Std. Err.     T-stat    P-value    Lower CI    Upper CI\n",
      "------------------------------------------------------------------------------\n",
      "const         -0.0941     0.0225    -4.1785     0.0000     -0.1382     -0.0500\n",
      "MarketSize     0.1479     0.0228     6.4751     0.0000      0.1032      0.1927\n",
      "age            0.0860     0.0047     18.332     0.0000      0.0768      0.0951\n",
      "==============================================================================\n"
     ]
    }
   ],
   "source": [
    "print(lpm.summary)"
   ]
  },
  {
   "cell_type": "markdown",
   "id": "586ed8fc",
   "metadata": {},
   "source": [
    "### Part 2 - Estimation"
   ]
  },
  {
   "cell_type": "code",
   "execution_count": 27,
   "id": "74181bcb",
   "metadata": {},
   "outputs": [],
   "source": [
    "ms = np.array(sorted(list(set(data['MarketSize']))))\n",
    "n_ms = len(ms)\n",
    "ages = np.array(sorted(list(set(data['age']))))\n",
    "n_ages = len(ages)"
   ]
  },
  {
   "cell_type": "code",
   "execution_count": 69,
   "id": "e63d761f",
   "metadata": {},
   "outputs": [],
   "source": [
    "ms_repeat = np.tile(ms,(n_ages,1)).T\n",
    "ages_repeat = np.tile(ages,(n_ms,1))"
   ]
  },
  {
   "cell_type": "code",
   "execution_count": 174,
   "id": "2121615c",
   "metadata": {},
   "outputs": [],
   "source": [
    "data['ms_ind'] = data['MarketSize'].transform(lambda x: np.where(ms == x)[0][0])\n",
    "data['ages_ind'] = data['age'].transform(lambda x: np.where(ages == x)[0][0])"
   ]
  },
  {
   "cell_type": "code",
   "execution_count": 177,
   "id": "c52ab9fc",
   "metadata": {},
   "outputs": [
    {
     "data": {
      "text/html": [
       "<div>\n",
       "<style scoped>\n",
       "    .dataframe tbody tr th:only-of-type {\n",
       "        vertical-align: middle;\n",
       "    }\n",
       "\n",
       "    .dataframe tbody tr th {\n",
       "        vertical-align: top;\n",
       "    }\n",
       "\n",
       "    .dataframe thead th {\n",
       "        text-align: right;\n",
       "    }\n",
       "</style>\n",
       "<table border=\"1\" class=\"dataframe\">\n",
       "  <thead>\n",
       "    <tr style=\"text-align: right;\">\n",
       "      <th></th>\n",
       "      <th>Market</th>\n",
       "      <th>MarketSize</th>\n",
       "      <th>t</th>\n",
       "      <th>age</th>\n",
       "      <th>replacement</th>\n",
       "      <th>ms_ind</th>\n",
       "      <th>ages_ind</th>\n",
       "    </tr>\n",
       "  </thead>\n",
       "  <tbody>\n",
       "    <tr>\n",
       "      <th>0</th>\n",
       "      <td>1</td>\n",
       "      <td>1.2</td>\n",
       "      <td>1</td>\n",
       "      <td>0</td>\n",
       "      <td>0</td>\n",
       "      <td>10</td>\n",
       "      <td>0</td>\n",
       "    </tr>\n",
       "    <tr>\n",
       "      <th>1</th>\n",
       "      <td>1</td>\n",
       "      <td>1.2</td>\n",
       "      <td>2</td>\n",
       "      <td>1</td>\n",
       "      <td>0</td>\n",
       "      <td>10</td>\n",
       "      <td>1</td>\n",
       "    </tr>\n",
       "    <tr>\n",
       "      <th>2</th>\n",
       "      <td>1</td>\n",
       "      <td>1.2</td>\n",
       "      <td>3</td>\n",
       "      <td>2</td>\n",
       "      <td>0</td>\n",
       "      <td>10</td>\n",
       "      <td>2</td>\n",
       "    </tr>\n",
       "    <tr>\n",
       "      <th>3</th>\n",
       "      <td>1</td>\n",
       "      <td>1.2</td>\n",
       "      <td>4</td>\n",
       "      <td>3</td>\n",
       "      <td>1</td>\n",
       "      <td>10</td>\n",
       "      <td>3</td>\n",
       "    </tr>\n",
       "    <tr>\n",
       "      <th>4</th>\n",
       "      <td>1</td>\n",
       "      <td>1.2</td>\n",
       "      <td>5</td>\n",
       "      <td>0</td>\n",
       "      <td>0</td>\n",
       "      <td>10</td>\n",
       "      <td>0</td>\n",
       "    </tr>\n",
       "  </tbody>\n",
       "</table>\n",
       "</div>"
      ],
      "text/plain": [
       "   Market  MarketSize  t  age  replacement  ms_ind  ages_ind\n",
       "0       1         1.2  1    0            0      10         0\n",
       "1       1         1.2  2    1            0      10         1\n",
       "2       1         1.2  3    2            0      10         2\n",
       "3       1         1.2  4    3            1      10         3\n",
       "4       1         1.2  5    0            0      10         0"
      ]
     },
     "execution_count": 177,
     "metadata": {},
     "output_type": "execute_result"
    }
   ],
   "source": [
    "data.head()"
   ]
  },
  {
   "cell_type": "code",
   "execution_count": 227,
   "id": "ff5b5792",
   "metadata": {},
   "outputs": [],
   "source": [
    "def loglikelihood(par, data, iter_max = 5000, tol = 10e-5):\n",
    "    \n",
    "    '''This function'''\n",
    "    \n",
    "    vbig0 = np.zeros((n_ms,n_ages))\n",
    "    \n",
    "    error = 10\n",
    "    i = 0\n",
    "    \n",
    "    while error > tol:\n",
    "        vbig0_shift = np.roll(vbig0, shift = -1, axis = 1) \n",
    "        vbig0_shift[:,-1] = vbig0[:,-1]\n",
    "        vbig1 = np.log(np.exp(par[0]*ms_repeat*(1-par[1]*ages_repeat)+0.9*vbig0_shift) + \n",
    "                   np.exp(par[2] + 0.9*np.tile(vbig0[:,0],(n_ages,1)).T)) + np.euler_gamma \n",
    "        error = np.max(np.absolute(vbig1-vbig0))\n",
    "        vbig0 = vbig1\n",
    "        \n",
    "        if i > iter_max:\n",
    "            return(None)\n",
    "        i += 1\n",
    "        \n",
    "    v0 = par[0]*ms_repeat*(1-par[1]*ages_repeat)+0.9*vbig0_shift\n",
    "    v1 = par[2] + 0.9*np.tile(vbig0[:,0],(n_ages,1)).T\n",
    "    \n",
    "    ccp0 = np.exp(v0)/(np.exp(v0)+np.exp(v1))\n",
    "    ccp1 = 1 - ccp0\n",
    "    \n",
    "    ll = np.log(data['replacement']*ccp1[data['ms_ind'],data['ages_ind']] + (1-data['replacement'])*ccp0[data['ms_ind'],data['ages_ind']])\n",
    "    \n",
    "    return(-np.sum(ll))"
   ]
  },
  {
   "cell_type": "code",
   "execution_count": 228,
   "id": "e70f241e",
   "metadata": {},
   "outputs": [
    {
     "data": {
      "text/plain": [
       "1574.459651305729"
      ]
     },
     "execution_count": 228,
     "metadata": {},
     "output_type": "execute_result"
    }
   ],
   "source": [
    "loglikelihood(np.array([1,0.1,1]),data)"
   ]
  },
  {
   "cell_type": "code",
   "execution_count": 229,
   "id": "101422b8",
   "metadata": {},
   "outputs": [
    {
     "name": "stderr",
     "output_type": "stream",
     "text": [
      "E:\\Anaconda3\\lib\\site-packages\\pandas\\core\\arraylike.py:364: RuntimeWarning: divide by zero encountered in log\n",
      "  result = getattr(ufunc, method)(*inputs, **kwargs)\n",
      "E:\\Anaconda3\\lib\\site-packages\\scipy\\optimize\\_numdiff.py:557: RuntimeWarning: invalid value encountered in subtract\n",
      "  df = fun(x) - f0\n",
      "E:\\Anaconda3\\lib\\site-packages\\pandas\\core\\arraylike.py:364: RuntimeWarning: divide by zero encountered in log\n",
      "  result = getattr(ufunc, method)(*inputs, **kwargs)\n",
      "E:\\Anaconda3\\lib\\site-packages\\pandas\\core\\arraylike.py:364: RuntimeWarning: divide by zero encountered in log\n",
      "  result = getattr(ufunc, method)(*inputs, **kwargs)\n",
      "E:\\Anaconda3\\lib\\site-packages\\scipy\\optimize\\_numdiff.py:557: RuntimeWarning: invalid value encountered in subtract\n",
      "  df = fun(x) - f0\n",
      "E:\\Anaconda3\\lib\\site-packages\\pandas\\core\\arraylike.py:364: RuntimeWarning: divide by zero encountered in log\n",
      "  result = getattr(ufunc, method)(*inputs, **kwargs)\n"
     ]
    }
   ],
   "source": [
    "opt_par = minimize(loglikelihood, x0 = np.array([1,0.1,1]), args = (data), method = 'BFGS')"
   ]
  },
  {
   "cell_type": "code",
   "execution_count": 230,
   "id": "166e05c1",
   "metadata": {},
   "outputs": [
    {
     "data": {
      "text/plain": [
       "      fun: 825.7435614147627\n",
       " hess_inv: array([[ 0.09700156, -0.01464492,  0.05063477],\n",
       "       [-0.01464492,  0.00253642, -0.0103686 ],\n",
       "       [ 0.05063477, -0.0103686 ,  0.06105781]])\n",
       "      jac: array([0.00000000e+00, 7.62939453e-06, 7.62939453e-06])\n",
       "  message: 'Optimization terminated successfully.'\n",
       "     nfev: 122\n",
       "      nit: 23\n",
       "     njev: 29\n",
       "   status: 0\n",
       "  success: True\n",
       "        x: array([ 1.45546094,  0.26154845, -2.58972656])"
      ]
     },
     "execution_count": 230,
     "metadata": {},
     "output_type": "execute_result"
    }
   ],
   "source": [
    "opt_par"
   ]
  }
 ],
 "metadata": {
  "kernelspec": {
   "display_name": "Python 3 (ipykernel)",
   "language": "python",
   "name": "python3"
  },
  "language_info": {
   "codemirror_mode": {
    "name": "ipython",
    "version": 3
   },
   "file_extension": ".py",
   "mimetype": "text/x-python",
   "name": "python",
   "nbconvert_exporter": "python",
   "pygments_lexer": "ipython3",
   "version": "3.7.4"
  }
 },
 "nbformat": 4,
 "nbformat_minor": 5
}
