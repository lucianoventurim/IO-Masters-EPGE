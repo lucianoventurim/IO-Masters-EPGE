{
 "cells": [
  {
   "cell_type": "markdown",
   "id": "9beb3f73",
   "metadata": {},
   "source": [
    "### Industrial Organization - Assignment 2\n",
    "##### Luciano Fabio Busatto Venturim\n",
    "##### 1st Quarter - 2022\n",
    "##### EPGE/FGV"
   ]
  },
  {
   "cell_type": "code",
   "execution_count": 1,
   "id": "f2fae8df",
   "metadata": {},
   "outputs": [],
   "source": [
    "import numpy as np\n",
    "import pandas as pd\n",
    "import linearmodels as lm\n",
    "from statsmodels.api import add_constant\n",
    "from scipy.optimize import minimize\n",
    "from numba import njit"
   ]
  },
  {
   "cell_type": "markdown",
   "id": "3135f743",
   "metadata": {},
   "source": [
    "### Part 1 - Setup"
   ]
  },
  {
   "cell_type": "code",
   "execution_count": 2,
   "id": "6b2f4f2f",
   "metadata": {},
   "outputs": [],
   "source": [
    "data = pd.read_csv('../data/io_assignment2_data.csv')"
   ]
  },
  {
   "cell_type": "markdown",
   "id": "5d380ab3",
   "metadata": {},
   "source": [
    "Creating the variable $c_{nt}$:"
   ]
  },
  {
   "cell_type": "code",
   "execution_count": 3,
   "id": "4683dfa1",
   "metadata": {},
   "outputs": [],
   "source": [
    "data['replacement'] = data['age'].transform(lambda x: 1 if x==0 else 0)\n",
    "data['replacement'] = data.groupby('Market')['replacement'].shift(-1)\n",
    "data.dropna(inplace=True) #for the last periods, we cannot know if the replacements were made.\n",
    "data['replacement'] = data['replacement'].astype('int')"
   ]
  },
  {
   "cell_type": "code",
   "execution_count": 4,
   "id": "88dc0c7b",
   "metadata": {},
   "outputs": [
    {
     "data": {
      "text/html": [
       "<div>\n",
       "<style scoped>\n",
       "    .dataframe tbody tr th:only-of-type {\n",
       "        vertical-align: middle;\n",
       "    }\n",
       "\n",
       "    .dataframe tbody tr th {\n",
       "        vertical-align: top;\n",
       "    }\n",
       "\n",
       "    .dataframe thead th {\n",
       "        text-align: right;\n",
       "    }\n",
       "</style>\n",
       "<table border=\"1\" class=\"dataframe\">\n",
       "  <thead>\n",
       "    <tr style=\"text-align: right;\">\n",
       "      <th></th>\n",
       "      <th>Market</th>\n",
       "      <th>MarketSize</th>\n",
       "      <th>t</th>\n",
       "      <th>age</th>\n",
       "      <th>replacement</th>\n",
       "    </tr>\n",
       "  </thead>\n",
       "  <tbody>\n",
       "    <tr>\n",
       "      <th>0</th>\n",
       "      <td>1</td>\n",
       "      <td>1.2</td>\n",
       "      <td>1</td>\n",
       "      <td>0</td>\n",
       "      <td>0</td>\n",
       "    </tr>\n",
       "    <tr>\n",
       "      <th>1</th>\n",
       "      <td>1</td>\n",
       "      <td>1.2</td>\n",
       "      <td>2</td>\n",
       "      <td>1</td>\n",
       "      <td>0</td>\n",
       "    </tr>\n",
       "    <tr>\n",
       "      <th>2</th>\n",
       "      <td>1</td>\n",
       "      <td>1.2</td>\n",
       "      <td>3</td>\n",
       "      <td>2</td>\n",
       "      <td>0</td>\n",
       "    </tr>\n",
       "    <tr>\n",
       "      <th>3</th>\n",
       "      <td>1</td>\n",
       "      <td>1.2</td>\n",
       "      <td>4</td>\n",
       "      <td>3</td>\n",
       "      <td>1</td>\n",
       "    </tr>\n",
       "    <tr>\n",
       "      <th>4</th>\n",
       "      <td>1</td>\n",
       "      <td>1.2</td>\n",
       "      <td>5</td>\n",
       "      <td>0</td>\n",
       "      <td>0</td>\n",
       "    </tr>\n",
       "    <tr>\n",
       "      <th>5</th>\n",
       "      <td>1</td>\n",
       "      <td>1.2</td>\n",
       "      <td>6</td>\n",
       "      <td>1</td>\n",
       "      <td>0</td>\n",
       "    </tr>\n",
       "    <tr>\n",
       "      <th>6</th>\n",
       "      <td>1</td>\n",
       "      <td>1.2</td>\n",
       "      <td>7</td>\n",
       "      <td>2</td>\n",
       "      <td>1</td>\n",
       "    </tr>\n",
       "    <tr>\n",
       "      <th>7</th>\n",
       "      <td>1</td>\n",
       "      <td>1.2</td>\n",
       "      <td>8</td>\n",
       "      <td>0</td>\n",
       "      <td>0</td>\n",
       "    </tr>\n",
       "    <tr>\n",
       "      <th>8</th>\n",
       "      <td>1</td>\n",
       "      <td>1.2</td>\n",
       "      <td>9</td>\n",
       "      <td>1</td>\n",
       "      <td>0</td>\n",
       "    </tr>\n",
       "    <tr>\n",
       "      <th>9</th>\n",
       "      <td>1</td>\n",
       "      <td>1.2</td>\n",
       "      <td>10</td>\n",
       "      <td>2</td>\n",
       "      <td>0</td>\n",
       "    </tr>\n",
       "  </tbody>\n",
       "</table>\n",
       "</div>"
      ],
      "text/plain": [
       "   Market  MarketSize   t  age  replacement\n",
       "0       1         1.2   1    0            0\n",
       "1       1         1.2   2    1            0\n",
       "2       1         1.2   3    2            0\n",
       "3       1         1.2   4    3            1\n",
       "4       1         1.2   5    0            0\n",
       "5       1         1.2   6    1            0\n",
       "6       1         1.2   7    2            1\n",
       "7       1         1.2   8    0            0\n",
       "8       1         1.2   9    1            0\n",
       "9       1         1.2  10    2            0"
      ]
     },
     "execution_count": 4,
     "metadata": {},
     "output_type": "execute_result"
    }
   ],
   "source": [
    "data.head(10)"
   ]
  },
  {
   "cell_type": "markdown",
   "id": "56aba9d1",
   "metadata": {},
   "source": [
    "Now, we run a linear probability model."
   ]
  },
  {
   "cell_type": "code",
   "execution_count": 5,
   "id": "f75563d5",
   "metadata": {},
   "outputs": [
    {
     "name": "stderr",
     "output_type": "stream",
     "text": [
      "E:\\Anaconda3\\lib\\site-packages\\statsmodels\\tsa\\tsatools.py:142: FutureWarning: In a future version of pandas all arguments of concat except for the argument 'objs' will be keyword-only\n",
      "  x = pd.concat(x[::order], 1)\n"
     ]
    }
   ],
   "source": [
    "lpm = lm.IV2SLS(data['replacement'],add_constant(data[['MarketSize','age']]),None,None).fit()"
   ]
  },
  {
   "cell_type": "code",
   "execution_count": 6,
   "id": "86ddad4c",
   "metadata": {},
   "outputs": [
    {
     "name": "stdout",
     "output_type": "stream",
     "text": [
      "                            OLS Estimation Summary                            \n",
      "==============================================================================\n",
      "Dep. Variable:            replacement   R-squared:                      0.1748\n",
      "Estimator:                        OLS   Adj. R-squared:                 0.1739\n",
      "No. Observations:                1900   F-statistic:                    353.63\n",
      "Date:                Tue, Mar 15 2022   P-value (F-stat)                0.0000\n",
      "Time:                        13:16:11   Distribution:                  chi2(2)\n",
      "Cov. Estimator:                robust                                         \n",
      "                                                                              \n",
      "                             Parameter Estimates                              \n",
      "==============================================================================\n",
      "            Parameter  Std. Err.     T-stat    P-value    Lower CI    Upper CI\n",
      "------------------------------------------------------------------------------\n",
      "const         -0.0941     0.0225    -4.1785     0.0000     -0.1382     -0.0500\n",
      "MarketSize     0.1479     0.0228     6.4751     0.0000      0.1032      0.1927\n",
      "age            0.0860     0.0047     18.332     0.0000      0.0768      0.0951\n",
      "==============================================================================\n"
     ]
    }
   ],
   "source": [
    "print(lpm.summary)"
   ]
  },
  {
   "cell_type": "markdown",
   "id": "1cd40a36",
   "metadata": {},
   "source": [
    "### Part 2 - Estimation"
   ]
  },
  {
   "cell_type": "markdown",
   "id": "cd674486",
   "metadata": {},
   "source": [
    "To optimize the estimation, I first get the possible values of 'MarketSize's and 'age's in a sorted array. ms_repeat and ages_repeat are just repetition of these arrays to vectorize the algorithm when using all all possible combinations of market sizes and ages."
   ]
  },
  {
   "cell_type": "code",
   "execution_count": 7,
   "id": "96be57be",
   "metadata": {},
   "outputs": [],
   "source": [
    "ms = np.array(sorted(list(set(data['MarketSize']))))\n",
    "n_ms = len(ms)\n",
    "ages = np.array(sorted(list(set(data['age']))))\n",
    "n_ages = len(ages)"
   ]
  },
  {
   "cell_type": "code",
   "execution_count": 8,
   "id": "1279dfdb",
   "metadata": {},
   "outputs": [],
   "source": [
    "ms_repeat = np.tile(ms,(n_ages,1)).T\n",
    "ages_repeat = np.tile(ages,(n_ms,1))"
   ]
  },
  {
   "cell_type": "markdown",
   "id": "3f9582b3",
   "metadata": {},
   "source": [
    "I also include the index of each data point with respect to the Value Function and CCPs matrices."
   ]
  },
  {
   "cell_type": "code",
   "execution_count": 9,
   "id": "4fff28fb",
   "metadata": {},
   "outputs": [],
   "source": [
    "data['ms_ind'] = data['MarketSize'].transform(lambda x: np.where(ms == x)[0][0])\n",
    "data['ages_ind'] = data['age'].transform(lambda x: np.where(ages == x)[0][0])"
   ]
  },
  {
   "cell_type": "code",
   "execution_count": 10,
   "id": "7cd1a696",
   "metadata": {},
   "outputs": [
    {
     "data": {
      "text/html": [
       "<div>\n",
       "<style scoped>\n",
       "    .dataframe tbody tr th:only-of-type {\n",
       "        vertical-align: middle;\n",
       "    }\n",
       "\n",
       "    .dataframe tbody tr th {\n",
       "        vertical-align: top;\n",
       "    }\n",
       "\n",
       "    .dataframe thead th {\n",
       "        text-align: right;\n",
       "    }\n",
       "</style>\n",
       "<table border=\"1\" class=\"dataframe\">\n",
       "  <thead>\n",
       "    <tr style=\"text-align: right;\">\n",
       "      <th></th>\n",
       "      <th>Market</th>\n",
       "      <th>MarketSize</th>\n",
       "      <th>t</th>\n",
       "      <th>age</th>\n",
       "      <th>replacement</th>\n",
       "      <th>ms_ind</th>\n",
       "      <th>ages_ind</th>\n",
       "    </tr>\n",
       "  </thead>\n",
       "  <tbody>\n",
       "    <tr>\n",
       "      <th>0</th>\n",
       "      <td>1</td>\n",
       "      <td>1.2</td>\n",
       "      <td>1</td>\n",
       "      <td>0</td>\n",
       "      <td>0</td>\n",
       "      <td>10</td>\n",
       "      <td>0</td>\n",
       "    </tr>\n",
       "    <tr>\n",
       "      <th>1</th>\n",
       "      <td>1</td>\n",
       "      <td>1.2</td>\n",
       "      <td>2</td>\n",
       "      <td>1</td>\n",
       "      <td>0</td>\n",
       "      <td>10</td>\n",
       "      <td>1</td>\n",
       "    </tr>\n",
       "    <tr>\n",
       "      <th>2</th>\n",
       "      <td>1</td>\n",
       "      <td>1.2</td>\n",
       "      <td>3</td>\n",
       "      <td>2</td>\n",
       "      <td>0</td>\n",
       "      <td>10</td>\n",
       "      <td>2</td>\n",
       "    </tr>\n",
       "    <tr>\n",
       "      <th>3</th>\n",
       "      <td>1</td>\n",
       "      <td>1.2</td>\n",
       "      <td>4</td>\n",
       "      <td>3</td>\n",
       "      <td>1</td>\n",
       "      <td>10</td>\n",
       "      <td>3</td>\n",
       "    </tr>\n",
       "    <tr>\n",
       "      <th>4</th>\n",
       "      <td>1</td>\n",
       "      <td>1.2</td>\n",
       "      <td>5</td>\n",
       "      <td>0</td>\n",
       "      <td>0</td>\n",
       "      <td>10</td>\n",
       "      <td>0</td>\n",
       "    </tr>\n",
       "  </tbody>\n",
       "</table>\n",
       "</div>"
      ],
      "text/plain": [
       "   Market  MarketSize  t  age  replacement  ms_ind  ages_ind\n",
       "0       1         1.2  1    0            0      10         0\n",
       "1       1         1.2  2    1            0      10         1\n",
       "2       1         1.2  3    2            0      10         2\n",
       "3       1         1.2  4    3            1      10         3\n",
       "4       1         1.2  5    0            0      10         0"
      ]
     },
     "execution_count": 10,
     "metadata": {},
     "output_type": "execute_result"
    }
   ],
   "source": [
    "data.head()"
   ]
  },
  {
   "cell_type": "code",
   "execution_count": 20,
   "id": "0874a9f6",
   "metadata": {},
   "outputs": [],
   "source": [
    "def loglikelihood(par, data, iter_max = 1000, tol = 10e-5):\n",
    "    \n",
    "    '''This function computes the loglikelihood criterion function for given parameters [theta, alpha, phi] and data using \n",
    "    the NFP algorithm. \n",
    "    \n",
    "    It returns the negative of loglikelihood criterion function, a float number.'''\n",
    "    \n",
    "    vbig0 = np.zeros((n_ms,n_ages)) #entry (i,j) of the matrix is the value function evaluated at the ith marketsize and jth age\n",
    "    \n",
    "    error = 10\n",
    "    i = 0\n",
    "    \n",
    "    while error > tol:\n",
    "        vbig0_shift = np.roll(vbig0, shift = -1, axis = 1) \n",
    "        vbig0_shift[:,-1] = vbig0[:,-1] #the continuation matrix\n",
    "        vbig1 = np.log(np.exp(par[0]*ms_repeat*(1-par[1]*ages_repeat)+0.9*vbig0_shift) + \n",
    "                   np.exp(-par[2] + 0.9*np.tile(vbig0[:,0],(n_ages,1)).T)) + np.euler_gamma \n",
    "        error = np.max(np.absolute(vbig1-vbig0))\n",
    "        vbig0 = vbig1\n",
    "        \n",
    "        if i > iter_max:\n",
    "            return(None)\n",
    "        i += 1\n",
    "        \n",
    "    v0 = par[0]*ms_repeat*(1-par[1]*ages_repeat)+0.9*vbig0_shift\n",
    "    v1 = -par[2] + 0.9*np.tile(vbig0[:,0],(n_ages,1)).T\n",
    "    \n",
    "    ccp0 = np.exp(v0)/(np.exp(v0)+np.exp(v1)) #conditional choice probabilities. indexing is equal to those in vbig0.\n",
    "    ccp1 = 1 - ccp0\n",
    "    \n",
    "    ll = np.log(data['replacement']*ccp1[data['ms_ind'],data['ages_ind']] + (1-data['replacement'])*ccp0[data['ms_ind'],data['ages_ind']])\n",
    "    \n",
    "    return(-np.sum(ll))"
   ]
  },
  {
   "cell_type": "markdown",
   "id": "c1164bc0",
   "metadata": {},
   "source": [
    "Optimizing using the \"BFGS\" method:"
   ]
  },
  {
   "cell_type": "code",
   "execution_count": 21,
   "id": "792fad5a",
   "metadata": {},
   "outputs": [],
   "source": [
    "opt_par = minimize(loglikelihood, x0 = np.array([1,0.1,1]), args = (data), method = 'BFGS').x"
   ]
  },
  {
   "cell_type": "code",
   "execution_count": 22,
   "id": "ac89e71a",
   "metadata": {},
   "outputs": [
    {
     "data": {
      "text/plain": [
       "array([1.45546067, 0.26154854, 2.58972716])"
      ]
     },
     "execution_count": 22,
     "metadata": {},
     "output_type": "execute_result"
    }
   ],
   "source": [
    "opt_par"
   ]
  },
  {
   "cell_type": "markdown",
   "id": "8df0b0ae",
   "metadata": {},
   "source": [
    "### Part 3"
   ]
  },
  {
   "cell_type": "code",
   "execution_count": 18,
   "id": "95340368",
   "metadata": {},
   "outputs": [],
   "source": [
    "def ccp(par, iter_max = 1000, tol = 10e-5):\n",
    "    \n",
    "    \"\"\"This function evaluates the conditional choice probabilities for given parameters\"\"\"\n",
    "    \n",
    "    vbig0 = np.zeros((n_ms,n_ages)) #entry (i,j) of the matrix is the value function evaluated at the ith marketsize and jth age\n",
    "    \n",
    "    error = 10\n",
    "    i = 0\n",
    "    \n",
    "    while error > tol:\n",
    "        vbig0_shift = np.roll(vbig0, shift = -1, axis = 1) \n",
    "        vbig0_shift[:,-1] = vbig0[:,-1] #the continuation matrix\n",
    "        vbig1 = np.log(np.exp(par[0]*ms_repeat*(1-par[1]*ages_repeat)+0.9*vbig0_shift) + \n",
    "                   np.exp(-par[2] + 0.9*np.tile(vbig0[:,0],(n_ages,1)).T)) + np.euler_gamma \n",
    "        error = np.max(np.absolute(vbig1-vbig0))\n",
    "        vbig0 = vbig1\n",
    "        \n",
    "        if i > iter_max:\n",
    "            return(None)\n",
    "        i += 1\n",
    "        \n",
    "    v0 = par[0]*ms_repeat*(1-par[1]*ages_repeat)+0.9*vbig0_shift\n",
    "    v1 = -par[2] + 0.9*np.tile(vbig0[:,0],(n_ages,1)).T\n",
    "    \n",
    "    ccp0 = np.exp(v0)/(np.exp(v0)+np.exp(v1)) #conditional choice probabilities. indexing is equal to those in vbig0.\n",
    "    ccp1 = 1 - ccp0\n",
    "    \n",
    "    return(ccp0,ccp1)"
   ]
  },
  {
   "cell_type": "markdown",
   "id": "12dc7445",
   "metadata": {},
   "source": [
    "To evaluate counterfactuals, I first get the Conditional Choice Probabilities using the estimated parameters."
   ]
  },
  {
   "cell_type": "code",
   "execution_count": 23,
   "id": "85a9cc7a",
   "metadata": {},
   "outputs": [],
   "source": [
    "ccp0, ccp1 = ccp(opt_par)"
   ]
  },
  {
   "cell_type": "markdown",
   "id": "f0ef801c",
   "metadata": {},
   "source": [
    "In this exercise, we want to evaluate the differences in the CCP if the cost of replacement is reduced in 50%, when the market size is equal to 1."
   ]
  },
  {
   "cell_type": "code",
   "execution_count": 35,
   "id": "9eb82c59",
   "metadata": {},
   "outputs": [],
   "source": [
    "ccp0_cf, ccp1_cf = ccp(opt_par/np.array([1,1,2]))"
   ]
  },
  {
   "cell_type": "code",
   "execution_count": 36,
   "id": "88377565",
   "metadata": {},
   "outputs": [],
   "source": [
    "ccp0_cf_ms1, ccp1_cf_ms1 = ccp0_cf[np.where(ms == 1)[0][0],:], ccp1_cf[np.where(ms == 1)[0][0],:]\n",
    "ccp0_ms1, ccp1_ms1 = ccp0[np.where(ms == 1)[0][0],:], ccp1[np.where(ms == 1)[0][0],:]"
   ]
  },
  {
   "cell_type": "code",
   "execution_count": 48,
   "id": "c6bb32c9",
   "metadata": {},
   "outputs": [],
   "source": [
    "ccps = pd.DataFrame({'Estimated':ccp1_ms1, 'Counterfactual':ccp1_cf_ms1})\n",
    "ccps = ccps.style.set_caption('Conditional probabilities of replacing the machine when market size is 1')\n",
    "ccps.index.name = 'Age'"
   ]
  },
  {
   "cell_type": "code",
   "execution_count": 49,
   "id": "c523d926",
   "metadata": {},
   "outputs": [
    {
     "data": {
      "text/html": [
       "<style type=\"text/css\">\n",
       "</style>\n",
       "<table id=\"T_9f33d_\">\n",
       "  <caption>Conditional probabilities of replacing the machine when market size is 1</caption>\n",
       "  <thead>\n",
       "    <tr>\n",
       "      <th class=\"blank level0\" >&nbsp;</th>\n",
       "      <th class=\"col_heading level0 col0\" >Estimated</th>\n",
       "      <th class=\"col_heading level0 col1\" >Counterfactual</th>\n",
       "    </tr>\n",
       "    <tr>\n",
       "      <th class=\"index_name level0\" >Age</th>\n",
       "      <th class=\"blank col0\" >&nbsp;</th>\n",
       "      <th class=\"blank col1\" >&nbsp;</th>\n",
       "    </tr>\n",
       "  </thead>\n",
       "  <tbody>\n",
       "    <tr>\n",
       "      <th id=\"T_9f33d_level0_row0\" class=\"row_heading level0 row0\" >0</th>\n",
       "      <td id=\"T_9f33d_row0_col0\" class=\"data row0 col0\" >0.039570</td>\n",
       "      <td id=\"T_9f33d_row0_col1\" class=\"data row0 col1\" >0.106886</td>\n",
       "    </tr>\n",
       "    <tr>\n",
       "      <th id=\"T_9f33d_level0_row1\" class=\"row_heading level0 row1\" >1</th>\n",
       "      <td id=\"T_9f33d_row1_col0\" class=\"data row1 col0\" >0.102411</td>\n",
       "      <td id=\"T_9f33d_row1_col1\" class=\"data row1 col1\" >0.214597</td>\n",
       "    </tr>\n",
       "    <tr>\n",
       "      <th id=\"T_9f33d_level0_row2\" class=\"row_heading level0 row2\" >2</th>\n",
       "      <td id=\"T_9f33d_row2_col0\" class=\"data row2 col0\" >0.208050</td>\n",
       "      <td id=\"T_9f33d_row2_col1\" class=\"data row2 col1\" >0.351786</td>\n",
       "    </tr>\n",
       "    <tr>\n",
       "      <th id=\"T_9f33d_level0_row3\" class=\"row_heading level0 row3\" >3</th>\n",
       "      <td id=\"T_9f33d_row3_col0\" class=\"data row3 col0\" >0.344282</td>\n",
       "      <td id=\"T_9f33d_row3_col1\" class=\"data row3 col1\" >0.493995</td>\n",
       "    </tr>\n",
       "    <tr>\n",
       "      <th id=\"T_9f33d_level0_row4\" class=\"row_heading level0 row4\" >4</th>\n",
       "      <td id=\"T_9f33d_row4_col0\" class=\"data row4 col0\" >0.486808</td>\n",
       "      <td id=\"T_9f33d_row4_col1\" class=\"data row4 col1\" >0.621394</td>\n",
       "    </tr>\n",
       "    <tr>\n",
       "      <th id=\"T_9f33d_level0_row5\" class=\"row_heading level0 row5\" >5</th>\n",
       "      <td id=\"T_9f33d_row5_col0\" class=\"data row5 col0\" >0.615294</td>\n",
       "      <td id=\"T_9f33d_row5_col1\" class=\"data row5 col1\" >0.725019</td>\n",
       "    </tr>\n",
       "    <tr>\n",
       "      <th id=\"T_9f33d_level0_row6\" class=\"row_heading level0 row6\" >6</th>\n",
       "      <td id=\"T_9f33d_row6_col0\" class=\"data row6 col0\" >0.720228</td>\n",
       "      <td id=\"T_9f33d_row6_col1\" class=\"data row6 col1\" >0.804257</td>\n",
       "    </tr>\n",
       "    <tr>\n",
       "      <th id=\"T_9f33d_level0_row7\" class=\"row_heading level0 row7\" >7</th>\n",
       "      <td id=\"T_9f33d_row7_col0\" class=\"data row7 col0\" >0.800673</td>\n",
       "      <td id=\"T_9f33d_row7_col1\" class=\"data row7 col1\" >0.862518</td>\n",
       "    </tr>\n",
       "    <tr>\n",
       "      <th id=\"T_9f33d_level0_row8\" class=\"row_heading level0 row8\" >8</th>\n",
       "      <td id=\"T_9f33d_row8_col0\" class=\"data row8 col0\" >0.859908</td>\n",
       "      <td id=\"T_9f33d_row8_col1\" class=\"data row8 col1\" >0.904294</td>\n",
       "    </tr>\n",
       "    <tr>\n",
       "      <th id=\"T_9f33d_level0_row9\" class=\"row_heading level0 row9\" >9</th>\n",
       "      <td id=\"T_9f33d_row9_col0\" class=\"data row9 col0\" >0.902338</td>\n",
       "      <td id=\"T_9f33d_row9_col1\" class=\"data row9 col1\" >0.933741</td>\n",
       "    </tr>\n",
       "    <tr>\n",
       "      <th id=\"T_9f33d_level0_row10\" class=\"row_heading level0 row10\" >10</th>\n",
       "      <td id=\"T_9f33d_row10_col0\" class=\"data row10 col0\" >0.931128</td>\n",
       "      <td id=\"T_9f33d_row10_col1\" class=\"data row10 col1\" >0.953749</td>\n",
       "    </tr>\n",
       "  </tbody>\n",
       "</table>\n"
      ],
      "text/plain": [
       "<pandas.io.formats.style.Styler at 0x1664b7a0548>"
      ]
     },
     "execution_count": 49,
     "metadata": {},
     "output_type": "execute_result"
    }
   ],
   "source": [
    "ccps"
   ]
  },
  {
   "cell_type": "markdown",
   "id": "24944fac",
   "metadata": {},
   "source": [
    "As we can see, the reduction of the cost of replacement increases the probability of replacement of the machine, as expected."
   ]
  }
 ],
 "metadata": {
  "kernelspec": {
   "display_name": "Python 3 (ipykernel)",
   "language": "python",
   "name": "python3"
  },
  "language_info": {
   "codemirror_mode": {
    "name": "ipython",
    "version": 3
   },
   "file_extension": ".py",
   "mimetype": "text/x-python",
   "name": "python",
   "nbconvert_exporter": "python",
   "pygments_lexer": "ipython3",
   "version": "3.7.4"
  }
 },
 "nbformat": 4,
 "nbformat_minor": 5
}
