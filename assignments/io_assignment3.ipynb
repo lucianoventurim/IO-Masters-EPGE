{
 "cells": [
  {
   "cell_type": "markdown",
   "id": "018845fd",
   "metadata": {},
   "source": [
    "### Industrial Organization - Assignment 3\n",
    "##### Luciano Fabio Busatto Venturim\n",
    "##### 1st Quarter - 2022\n",
    "##### EPGE/FGV"
   ]
  },
  {
   "cell_type": "code",
   "execution_count": 1,
   "id": "e30dccab",
   "metadata": {},
   "outputs": [],
   "source": [
    "import numpy as np\n",
    "import pandas as pd\n",
    "import matplotlib.pyplot as plt\n",
    "from scipy.stats import norm\n",
    "from scipy.optimize import minimize"
   ]
  },
  {
   "cell_type": "markdown",
   "id": "508f0e4e",
   "metadata": {},
   "source": [
    "Loading the data"
   ]
  },
  {
   "cell_type": "code",
   "execution_count": 2,
   "id": "73d170de",
   "metadata": {},
   "outputs": [],
   "source": [
    "data = pd.read_csv('../data/io_assignment3_data.txt')"
   ]
  },
  {
   "cell_type": "code",
   "execution_count": 3,
   "id": "ce9fe16a",
   "metadata": {},
   "outputs": [
    {
     "data": {
      "text/html": [
       "<div>\n",
       "<style scoped>\n",
       "    .dataframe tbody tr th:only-of-type {\n",
       "        vertical-align: middle;\n",
       "    }\n",
       "\n",
       "    .dataframe tbody tr th {\n",
       "        vertical-align: top;\n",
       "    }\n",
       "\n",
       "    .dataframe thead th {\n",
       "        text-align: right;\n",
       "    }\n",
       "</style>\n",
       "<table border=\"1\" class=\"dataframe\">\n",
       "  <thead>\n",
       "    <tr style=\"text-align: right;\">\n",
       "      <th></th>\n",
       "      <th>Bid1</th>\n",
       "      <th>Bid2</th>\n",
       "      <th>Bid3</th>\n",
       "      <th>Reject</th>\n",
       "    </tr>\n",
       "  </thead>\n",
       "  <tbody>\n",
       "    <tr>\n",
       "      <th>0</th>\n",
       "      <td>33.35</td>\n",
       "      <td>18.54</td>\n",
       "      <td>22.79</td>\n",
       "      <td>1</td>\n",
       "    </tr>\n",
       "    <tr>\n",
       "      <th>1</th>\n",
       "      <td>17.14</td>\n",
       "      <td>32.94</td>\n",
       "      <td>18.93</td>\n",
       "      <td>0</td>\n",
       "    </tr>\n",
       "    <tr>\n",
       "      <th>2</th>\n",
       "      <td>12.27</td>\n",
       "      <td>23.47</td>\n",
       "      <td>12.23</td>\n",
       "      <td>0</td>\n",
       "    </tr>\n",
       "    <tr>\n",
       "      <th>3</th>\n",
       "      <td>31.18</td>\n",
       "      <td>12.75</td>\n",
       "      <td>17.38</td>\n",
       "      <td>0</td>\n",
       "    </tr>\n",
       "    <tr>\n",
       "      <th>4</th>\n",
       "      <td>19.82</td>\n",
       "      <td>23.93</td>\n",
       "      <td>28.11</td>\n",
       "      <td>0</td>\n",
       "    </tr>\n",
       "  </tbody>\n",
       "</table>\n",
       "</div>"
      ],
      "text/plain": [
       "    Bid1   Bid2   Bid3  Reject\n",
       "0  33.35  18.54  22.79       1\n",
       "1  17.14  32.94  18.93       0\n",
       "2  12.27  23.47  12.23       0\n",
       "3  31.18  12.75  17.38       0\n",
       "4  19.82  23.93  28.11       0"
      ]
     },
     "execution_count": 3,
     "metadata": {},
     "output_type": "execute_result"
    }
   ],
   "source": [
    "data.head()"
   ]
  },
  {
   "cell_type": "markdown",
   "id": "490c37ac",
   "metadata": {},
   "source": [
    "### Question 2"
   ]
  },
  {
   "cell_type": "code",
   "execution_count": 4,
   "id": "d4848397",
   "metadata": {},
   "outputs": [],
   "source": [
    "nbids = 3*len(data)\n",
    "bids = data[['Bid1','Bid2','Bid3']].values.reshape((nbids,))"
   ]
  },
  {
   "cell_type": "code",
   "execution_count": 5,
   "id": "2b19cde2",
   "metadata": {},
   "outputs": [],
   "source": [
    "# the bandwidth from the Silverman's rule of thumb\n",
    "\n",
    "bw = 1.06*np.std(bids)*(nbids)**(-1/5)"
   ]
  },
  {
   "cell_type": "code",
   "execution_count": 6,
   "id": "9194f443",
   "metadata": {},
   "outputs": [
    {
     "data": {
      "text/plain": [
       "2.2592581079126277"
      ]
     },
     "execution_count": 6,
     "metadata": {},
     "output_type": "execute_result"
    }
   ],
   "source": [
    "bw"
   ]
  },
  {
   "cell_type": "code",
   "execution_count": 7,
   "id": "07e67ea2",
   "metadata": {},
   "outputs": [],
   "source": [
    "def normal_kernel_pdf(ev_points, data, bandw):\n",
    "    \"\"\"\n",
    "    This function estimates a PDF using a normal kernel at every point in ev_points using data and the specified bandwidth bandw\n",
    "    \"\"\"\n",
    "    \n",
    "    ev_points_len = len(ev_points)\n",
    "    data_len = len(data)\n",
    "    \n",
    "    ev_points_rep = np.tile(ev_points, (data_len,1))\n",
    "    data_rep = np.tile(data, (ev_points_len,1)).T\n",
    "    \n",
    "    z = norm.pdf((ev_points_rep - data_rep)/bandw)\n",
    "    \n",
    "    den = np.sum(z, axis = 0)/(data_len*bandw)\n",
    "    \n",
    "    return(den)"
   ]
  },
  {
   "cell_type": "code",
   "execution_count": 8,
   "id": "ec5fa1a6",
   "metadata": {},
   "outputs": [],
   "source": [
    "def normal_kernel_cdf(ev_points, data, bandw):\n",
    "    \"\"\"\n",
    "    This function estimates a CDF using a normal kernel at every point in ev_points using data and the specified bandwidth bandw\n",
    "    \"\"\"    \n",
    "    \n",
    "    ev_points_len = len(ev_points)\n",
    "    data_len = len(data)\n",
    "    \n",
    "    ev_points_rep = np.tile(ev_points, (data_len,1))\n",
    "    data_rep = np.tile(data, (ev_points_len,1)).T\n",
    "    \n",
    "    z = norm.cdf((ev_points_rep - data_rep)/bandw)\n",
    "    \n",
    "    den = np.sum(z, axis = 0)/(data_len)\n",
    "    \n",
    "    return(den)"
   ]
  },
  {
   "cell_type": "code",
   "execution_count": 9,
   "id": "5992ece2",
   "metadata": {},
   "outputs": [],
   "source": [
    "# the pdf and cdf of bids, B and B'\n",
    "pdf_bids = normal_kernel_pdf(bids,bids,bw)\n",
    "cdf_bids = normal_kernel_cdf(bids,bids,bw)"
   ]
  },
  {
   "cell_type": "code",
   "execution_count": 10,
   "id": "459d0aeb",
   "metadata": {},
   "outputs": [],
   "source": [
    "reject = data['Reject'].values\n",
    "bid_max = data[['Bid1','Bid2','Bid3']].max(axis = 1).values"
   ]
  },
  {
   "cell_type": "code",
   "execution_count": 11,
   "id": "dad6949a",
   "metadata": {},
   "outputs": [],
   "source": [
    "def loglikelihood_h(par):\n",
    "    \"\"\"\n",
    "    This function evaluates the loglikelihood criterion function for a given (2,) array of parameters, assuming that\n",
    "    the reservation price follows a log-normal distribution.\n",
    "    \"\"\"\n",
    "    \n",
    "    z = norm.cdf((np.log(bid_max)-par[0])/par[1])\n",
    "    ll = sum(reject*np.log(1-z)+(1-reject)*np.log(z))\n",
    "    \n",
    "    return(-ll)"
   ]
  },
  {
   "cell_type": "code",
   "execution_count": 12,
   "id": "d1efa1cb",
   "metadata": {},
   "outputs": [],
   "source": [
    "ml_par = minimize(loglikelihood_h, x0 = np.array([0,1]), method='BFGS').x"
   ]
  },
  {
   "cell_type": "code",
   "execution_count": 13,
   "id": "b59b61af",
   "metadata": {},
   "outputs": [
    {
     "data": {
      "text/plain": [
       "array([0.9493334 , 2.74151857])"
      ]
     },
     "execution_count": 13,
     "metadata": {},
     "output_type": "execute_result"
    }
   ],
   "source": [
    "# the estimated parameters using maximum likelihood\n",
    "ml_par"
   ]
  },
  {
   "cell_type": "code",
   "execution_count": 14,
   "id": "5978d715",
   "metadata": {},
   "outputs": [],
   "source": [
    "# the reservation price pdf and cdf, H' and H, using the parameters estimated by ML assuming a log-normal distribution.\n",
    "pdf_res_price = norm.pdf((np.log(bids)-ml_par[0])/ml_par[1])*(1/(ml_par[1]*bids))\n",
    "cdf_res_price = norm.cdf((np.log(bids)-ml_par[0])/ml_par[1])"
   ]
  },
  {
   "cell_type": "markdown",
   "id": "b41078d1",
   "metadata": {},
   "source": [
    "Now, we can estimate the private values using the estimated pdfs and cdfs, and then estimate the pdf of the private values."
   ]
  },
  {
   "cell_type": "code",
   "execution_count": 15,
   "id": "1f8bb70e",
   "metadata": {},
   "outputs": [],
   "source": [
    "# the distribution G\n",
    "pdf_max_bids = 2*cdf_bids*pdf_bids\n",
    "cdf_max_bids = cdf_bids**2"
   ]
  },
  {
   "cell_type": "code",
   "execution_count": 16,
   "id": "ce287554",
   "metadata": {},
   "outputs": [],
   "source": [
    "# the estimated private values\n",
    "v = bids + (cdf_max_bids*cdf_res_price)/(pdf_max_bids*cdf_res_price+cdf_max_bids*pdf_res_price)"
   ]
  },
  {
   "cell_type": "code",
   "execution_count": 17,
   "id": "32c87045",
   "metadata": {},
   "outputs": [],
   "source": [
    "# Bandwidth from Silverman's rule of thumb for the estimation of the pdf of private values\n",
    "bw_v = 1.06*np.std(v)*(len(v))**(-1/5)"
   ]
  },
  {
   "cell_type": "code",
   "execution_count": 18,
   "id": "e4a62e04",
   "metadata": {},
   "outputs": [],
   "source": [
    "x = np.linspace(min(v),max(v),2000)"
   ]
  },
  {
   "cell_type": "code",
   "execution_count": 19,
   "id": "610a19cc",
   "metadata": {},
   "outputs": [],
   "source": [
    "pdf_v = normal_kernel_pdf(x,v,bw_v)"
   ]
  },
  {
   "cell_type": "markdown",
   "id": "34727475",
   "metadata": {},
   "source": [
    "Below, I show the estimated pdf of private values."
   ]
  },
  {
   "cell_type": "code",
   "execution_count": 20,
   "id": "b22820d1",
   "metadata": {},
   "outputs": [
    {
     "data": {
      "image/png": "[encoded data removed]",
      "text/plain": [
       "<Figure size 432x288 with 1 Axes>"
      ]
     },
     "metadata": {
      "needs_background": "light"
     },
     "output_type": "display_data"
    }
   ],
   "source": [
    "plt.plot(x[(pdf_v > np.quantile(pdf_v, q = 0.025))&(pdf_v < np.quantile(pdf_v, q = 0.975))],\n",
    "         pdf_v[(pdf_v > np.quantile(pdf_v, q = 0.025))&(pdf_v < np.quantile(pdf_v, q = 0.975))])\n",
    "plt.title('Estimated PDF of private values');"
   ]
  },
  {
   "cell_type": "markdown",
   "id": "ee2edfae",
   "metadata": {},
   "source": [
    "### Question 3"
   ]
  },
  {
   "cell_type": "code",
   "execution_count": 21,
   "id": "e94b2005",
   "metadata": {},
   "outputs": [],
   "source": [
    "r_grid_len = 200\n",
    "r_grid = np.linspace(4,32,r_grid_len)\n",
    "\n",
    "# dx is used in the approximation of the integral\n",
    "dr = (32-4)/r_grid_len\n",
    "\n",
    "# distributions\n",
    "pdf_r = normal_kernel_pdf(r_grid,v,bw_v)\n",
    "cdf_r = normal_kernel_cdf(r_grid,v,bw_v) \n",
    "\n",
    "# trimmed distributions\n",
    "cdf_r = cdf_r[(pdf_r > np.quantile(pdf_r, q = 0.025))&(pdf_r < np.quantile(pdf_r, q = 0.975))]\n",
    "r_grid = r_grid[(pdf_r > np.quantile(pdf_r, q = 0.025))&(pdf_r < np.quantile(pdf_r, q = 0.975))]\n",
    "pdf_r = pdf_r[(pdf_r > np.quantile(pdf_r, q = 0.025))&(pdf_r < np.quantile(pdf_r, q = 0.975))]\n",
    "\n",
    "# vector of revenues\n",
    "revenue = np.zeros(len(r_grid))\n",
    "\n",
    "# the arrays next_. are used to estimate the integral\n",
    "for i, r in enumerate(r_grid):\n",
    "    next_grid = r_grid[(r_grid >= r)&(r_grid <= max(v))]\n",
    "    next_pdf = pdf_r[(r_grid >= r)&(r_grid <= max(v))]\n",
    "    next_cdf = cdf_r[(r_grid >= r)&(r_grid <= max(v))]\n",
    "    revenue[i] = 3*(r*(1-cdf_r[i])*(cdf_r[i]**2)*(3-2*cdf_r[i]) +\n",
    "                    6*sum(next_grid*((1-next_cdf)**2)*next_cdf*next_pdf)*dr)"
   ]
  },
  {
   "cell_type": "code",
   "execution_count": 22,
   "id": "e03d0bc7",
   "metadata": {},
   "outputs": [
    {
     "data": {
      "image/png": "[encoded data removed]",
      "text/plain": [
       "<Figure size 432x288 with 1 Axes>"
      ]
     },
     "metadata": {
      "needs_background": "light"
     },
     "output_type": "display_data"
    }
   ],
   "source": [
    "plt.plot(r_grid,revenue)\n",
    "plt.vlines(r_grid[revenue == max(revenue)], min(revenue)-1,max(revenue),linestyles='dashed',color='k')\n",
    "plt.hlines(max(revenue),min(r_grid),(r_grid[revenue == max(revenue)]),linestyles='dashed',color='k')\n",
    "plt.annotate(f'r = {r_grid[revenue == max(revenue)][0]:.2f}, revenue = {max(revenue):.2f}', \n",
    "             xy = (r_grid[revenue == max(revenue)]-6, max(revenue)+0.2))\n",
    "plt.ylim((22.5,26.7))\n",
    "plt.xlabel('Reserve Prices')\n",
    "plt.ylabel('Expected Revenue')\n",
    "plt.title('Expected Revenue as a function of reserve prices');"
   ]
  }
 ],
 "metadata": {
  "kernelspec": {
   "display_name": "Python 3 (ipykernel)",
   "language": "python",
   "name": "python3"
  },
  "language_info": {
   "codemirror_mode": {
    "name": "ipython",
    "version": 3
   },
   "file_extension": ".py",
   "mimetype": "text/x-python",
   "name": "python",
   "nbconvert_exporter": "python",
   "pygments_lexer": "ipython3",
   "version": "3.7.4"
  }
 },
 "nbformat": 4,
 "nbformat_minor": 5
}
