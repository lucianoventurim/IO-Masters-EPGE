{
 "cells": [
  {
   "cell_type": "code",
   "execution_count": 178,
   "id": "c8cb40e0",
   "metadata": {},
   "outputs": [],
   "source": [
    "import numpy as np\n",
    "import matplotlib.pyplot as plt\n",
    "import pandas as pd\n",
    "import statsmodels.api as sm\n",
    "import linearmodels as lm\n",
    "%matplotlib inline"
   ]
  },
  {
   "cell_type": "markdown",
   "id": "e5566519",
   "metadata": {},
   "source": [
    "We first read the data."
   ]
  },
  {
   "cell_type": "code",
   "execution_count": 179,
   "id": "6542de45",
   "metadata": {},
   "outputs": [],
   "source": [
    "data = pd.read_csv('../data/io_assignment1_data.txt')"
   ]
  },
  {
   "cell_type": "markdown",
   "id": "53136fc0",
   "metadata": {},
   "source": [
    "We then create the market-share for the outside good $j=0$, and our dependent variable $log(s_{jt})-log(s_{0t})$ to perform the regression."
   ]
  },
  {
   "cell_type": "code",
   "execution_count": 180,
   "id": "492eb512",
   "metadata": {},
   "outputs": [],
   "source": [
    "data['ms0'] = 1 - data.groupby('t')['ms'].transform(sum)"
   ]
  },
  {
   "cell_type": "code",
   "execution_count": 181,
   "id": "4631fa02",
   "metadata": {},
   "outputs": [],
   "source": [
    "data['log_diff'] = np.log(data['ms'])-np.log(data['ms0'])"
   ]
  },
  {
   "cell_type": "markdown",
   "id": "e88ffe82",
   "metadata": {},
   "source": [
    "Since we allow for systematic differences in the firm's quality, which we do not observe, what we have is a model with fixed-effects. Therefore, we get the LSDV estimator adding dummy variables for each firm $j$."
   ]
  },
  {
   "cell_type": "code",
   "execution_count": 182,
   "id": "637a34e3",
   "metadata": {},
   "outputs": [],
   "source": [
    "data[['j_1','j_2']] = pd.get_dummies(data, columns=['j'])[['j_1','j_2']]"
   ]
  },
  {
   "cell_type": "code",
   "execution_count": 183,
   "id": "87eca7a4",
   "metadata": {},
   "outputs": [
    {
     "data": {
      "text/html": [
       "<div>\n",
       "<style scoped>\n",
       "    .dataframe tbody tr th:only-of-type {\n",
       "        vertical-align: middle;\n",
       "    }\n",
       "\n",
       "    .dataframe tbody tr th {\n",
       "        vertical-align: top;\n",
       "    }\n",
       "\n",
       "    .dataframe thead th {\n",
       "        text-align: right;\n",
       "    }\n",
       "</style>\n",
       "<table border=\"1\" class=\"dataframe\">\n",
       "  <thead>\n",
       "    <tr style=\"text-align: right;\">\n",
       "      <th></th>\n",
       "      <th>t</th>\n",
       "      <th>r</th>\n",
       "      <th>j</th>\n",
       "      <th>ms</th>\n",
       "      <th>price</th>\n",
       "      <th>channels</th>\n",
       "      <th>channels_spec</th>\n",
       "      <th>ms0</th>\n",
       "      <th>log_diff</th>\n",
       "      <th>j_1</th>\n",
       "      <th>j_2</th>\n",
       "    </tr>\n",
       "  </thead>\n",
       "  <tbody>\n",
       "    <tr>\n",
       "      <th>0</th>\n",
       "      <td>1</td>\n",
       "      <td>1</td>\n",
       "      <td>1</td>\n",
       "      <td>0.226</td>\n",
       "      <td>39</td>\n",
       "      <td>17</td>\n",
       "      <td>3</td>\n",
       "      <td>0.524</td>\n",
       "      <td>-0.840957</td>\n",
       "      <td>1</td>\n",
       "      <td>0</td>\n",
       "    </tr>\n",
       "    <tr>\n",
       "      <th>1</th>\n",
       "      <td>1</td>\n",
       "      <td>1</td>\n",
       "      <td>2</td>\n",
       "      <td>0.250</td>\n",
       "      <td>35</td>\n",
       "      <td>43</td>\n",
       "      <td>2</td>\n",
       "      <td>0.524</td>\n",
       "      <td>-0.740031</td>\n",
       "      <td>0</td>\n",
       "      <td>1</td>\n",
       "    </tr>\n",
       "    <tr>\n",
       "      <th>2</th>\n",
       "      <td>2</td>\n",
       "      <td>1</td>\n",
       "      <td>1</td>\n",
       "      <td>0.163</td>\n",
       "      <td>37</td>\n",
       "      <td>21</td>\n",
       "      <td>2</td>\n",
       "      <td>0.656</td>\n",
       "      <td>-1.392411</td>\n",
       "      <td>1</td>\n",
       "      <td>0</td>\n",
       "    </tr>\n",
       "    <tr>\n",
       "      <th>3</th>\n",
       "      <td>2</td>\n",
       "      <td>1</td>\n",
       "      <td>2</td>\n",
       "      <td>0.181</td>\n",
       "      <td>33</td>\n",
       "      <td>67</td>\n",
       "      <td>2</td>\n",
       "      <td>0.656</td>\n",
       "      <td>-1.287664</td>\n",
       "      <td>0</td>\n",
       "      <td>1</td>\n",
       "    </tr>\n",
       "    <tr>\n",
       "      <th>4</th>\n",
       "      <td>3</td>\n",
       "      <td>1</td>\n",
       "      <td>1</td>\n",
       "      <td>0.221</td>\n",
       "      <td>39</td>\n",
       "      <td>50</td>\n",
       "      <td>5</td>\n",
       "      <td>0.521</td>\n",
       "      <td>-0.857587</td>\n",
       "      <td>1</td>\n",
       "      <td>0</td>\n",
       "    </tr>\n",
       "  </tbody>\n",
       "</table>\n",
       "</div>"
      ],
      "text/plain": [
       "   t  r  j     ms  price  channels  channels_spec    ms0  log_diff  j_1  j_2\n",
       "0  1  1  1  0.226     39        17              3  0.524 -0.840957    1    0\n",
       "1  1  1  2  0.250     35        43              2  0.524 -0.740031    0    1\n",
       "2  2  1  1  0.163     37        21              2  0.656 -1.392411    1    0\n",
       "3  2  1  2  0.181     33        67              2  0.656 -1.287664    0    1\n",
       "4  3  1  1  0.221     39        50              5  0.521 -0.857587    1    0"
      ]
     },
     "execution_count": 183,
     "metadata": {},
     "output_type": "execute_result"
    }
   ],
   "source": [
    "data.head()"
   ]
  },
  {
   "cell_type": "markdown",
   "id": "7443a7b2",
   "metadata": {},
   "source": [
    "With the data ready, we run a OLS of the variable 'log_diff' on 'price', 'channels', 'channels_spec', and the dummies, without worrying about possible endogeneity of the variable price."
   ]
  },
  {
   "cell_type": "code",
   "execution_count": 184,
   "id": "29ccab69",
   "metadata": {},
   "outputs": [],
   "source": [
    "end_model = sm.OLS(data['log_diff'],data[['price','channels','channels_spec','j_1','j_2']])"
   ]
  },
  {
   "cell_type": "code",
   "execution_count": 185,
   "id": "6e0600ef",
   "metadata": {},
   "outputs": [],
   "source": [
    "end_results = end_model.fit()"
   ]
  },
  {
   "cell_type": "code",
   "execution_count": 186,
   "id": "f918dc3e",
   "metadata": {},
   "outputs": [
    {
     "name": "stdout",
     "output_type": "stream",
     "text": [
      "                        Logit model without intruments                        \n",
      "==============================================================================\n",
      "Dep. Variable:               log_diff   R-squared:                       0.395\n",
      "Model:                            OLS   Adj. R-squared:                  0.389\n",
      "Method:                 Least Squares   F-statistic:                     64.47\n",
      "Date:                Thu, 03 Feb 2022   Prob (F-statistic):           6.24e-42\n",
      "Time:                        20:48:57   Log-Likelihood:                -341.22\n",
      "No. Observations:                 400   AIC:                             692.4\n",
      "Df Residuals:                     395   BIC:                             712.4\n",
      "Df Model:                           4                                         \n",
      "Covariance Type:            nonrobust                                         \n",
      "=================================================================================\n",
      "                    coef    std err          t      P>|t|      [0.025      0.975]\n",
      "---------------------------------------------------------------------------------\n",
      "price            -0.0388      0.004     -9.244      0.000      -0.047      -0.031\n",
      "channels          0.0180      0.002     10.762      0.000       0.015       0.021\n",
      "channels_spec     0.1356      0.021      6.561      0.000       0.095       0.176\n",
      "j_1              -0.4848      0.179     -2.701      0.007      -0.838      -0.132\n",
      "j_2              -0.9486      0.168     -5.637      0.000      -1.280      -0.618\n",
      "==============================================================================\n",
      "Omnibus:                        4.280   Durbin-Watson:                   2.235\n",
      "Prob(Omnibus):                  0.118   Jarque-Bera (JB):                4.335\n",
      "Skew:                          -0.251   Prob(JB):                        0.114\n",
      "Kurtosis:                       2.915   Cond. No.                         474.\n",
      "==============================================================================\n",
      "\n",
      "Notes:\n",
      "[1] Standard Errors assume that the covariance matrix of the errors is correctly specified.\n"
     ]
    }
   ],
   "source": [
    "print(end_results.summary(title = 'Logit model without intruments'))"
   ]
  },
  {
   "cell_type": "markdown",
   "id": "c215a63b",
   "metadata": {},
   "source": [
    "As we would expect, the coefficient of 'price' is negative."
   ]
  },
  {
   "cell_type": "markdown",
   "id": "22e68b81",
   "metadata": {},
   "source": [
    "If the standard errors are clustered at the firm level, we get"
   ]
  },
  {
   "cell_type": "code",
   "execution_count": 187,
   "id": "177f269d",
   "metadata": {},
   "outputs": [],
   "source": [
    "end_results_rob = end_results.get_robustcov_results(cov_type = 'cluster', groups = data['j'])"
   ]
  },
  {
   "cell_type": "code",
   "execution_count": 188,
   "id": "cf5dce6a",
   "metadata": {},
   "outputs": [
    {
     "name": "stdout",
     "output_type": "stream",
     "text": [
      "                        Logit model without intruments                        \n",
      "==============================================================================\n",
      "Dep. Variable:               log_diff   R-squared:                       0.395\n",
      "Model:                            OLS   Adj. R-squared:                  0.389\n",
      "Method:                 Least Squares   F-statistic:                       nan\n",
      "Date:                Thu, 03 Feb 2022   Prob (F-statistic):                nan\n",
      "Time:                        20:49:00   Log-Likelihood:                -341.22\n",
      "No. Observations:                 400   AIC:                             692.4\n",
      "Df Residuals:                     395   BIC:                             712.4\n",
      "Df Model:                           4                                         \n",
      "Covariance Type:              cluster                                         \n",
      "=================================================================================\n",
      "                    coef    std err          t      P>|t|      [0.025      0.975]\n",
      "---------------------------------------------------------------------------------\n",
      "price            -0.0388      0.003    -11.991      0.053      -0.080       0.002\n",
      "channels          0.0180      0.001     21.624      0.029       0.007       0.029\n",
      "channels_spec     0.1356      0.022      6.099      0.103      -0.147       0.418\n",
      "j_1              -0.4848      0.224     -2.165      0.276      -3.331       2.361\n",
      "j_2              -0.9486      0.211     -4.493      0.139      -3.631       1.734\n",
      "==============================================================================\n",
      "Omnibus:                        4.280   Durbin-Watson:                   2.235\n",
      "Prob(Omnibus):                  0.118   Jarque-Bera (JB):                4.335\n",
      "Skew:                          -0.251   Prob(JB):                        0.114\n",
      "Kurtosis:                       2.915   Cond. No.                         474.\n",
      "==============================================================================\n",
      "\n",
      "Notes:\n",
      "[1] Standard Errors are robust to cluster correlation (cluster)\n"
     ]
    }
   ],
   "source": [
    "print(end_results_rob.summary(title = 'Logit model without intruments'))"
   ]
  },
  {
   "cell_type": "markdown",
   "id": "5467eb33",
   "metadata": {},
   "source": [
    "Now, we use IV regression to deal with probable endogeneity of 'price'. 'iv_1' is price of the same firm in different cities but in the same region. 'iv_2' is price of the same firm in different cities but in different regions."
   ]
  },
  {
   "cell_type": "code",
   "execution_count": 189,
   "id": "d98e26e5",
   "metadata": {},
   "outputs": [],
   "source": [
    "data['iv_1'] = data.groupby('r')['price'].transform(lambda x: np.roll(x, shift = 2))"
   ]
  },
  {
   "cell_type": "code",
   "execution_count": 190,
   "id": "8053c037",
   "metadata": {},
   "outputs": [],
   "source": [
    "data['iv_2'] = np.roll(data['price'].values,10)"
   ]
  },
  {
   "cell_type": "code",
   "execution_count": 191,
   "id": "e34b935a",
   "metadata": {},
   "outputs": [],
   "source": [
    "iv_1_res = lm.IV2SLS(data['log_diff'],data[['channels','channels_spec','j_1','j_2']],data['price'],data['iv_1']).fit()"
   ]
  },
  {
   "cell_type": "code",
   "execution_count": 192,
   "id": "0207e3e7",
   "metadata": {},
   "outputs": [
    {
     "name": "stdout",
     "output_type": "stream",
     "text": [
      "                          IV-2SLS Estimation Summary                          \n",
      "==============================================================================\n",
      "Dep. Variable:               log_diff   R-squared:                      0.3550\n",
      "Estimator:                    IV-2SLS   Adj. R-squared:                 0.3485\n",
      "No. Observations:                 400   F-statistic:                    1383.6\n",
      "Date:                Thu, Feb 03 2022   P-value (F-stat)                0.0000\n",
      "Time:                        20:49:02   Distribution:                  chi2(5)\n",
      "Cov. Estimator:                robust                                         \n",
      "                                                                              \n",
      "                               Parameter Estimates                               \n",
      "=================================================================================\n",
      "               Parameter  Std. Err.     T-stat    P-value    Lower CI    Upper CI\n",
      "---------------------------------------------------------------------------------\n",
      "channels          0.0187     0.0017     11.064     0.0000      0.0154      0.0220\n",
      "channels_spec     0.1440     0.0213     6.7469     0.0000      0.1021      0.1858\n",
      "j_1               0.2727     0.2133     1.2784     0.2011     -0.1454      0.6908\n",
      "j_2              -0.2548     0.1931    -1.3198     0.1869     -0.6333      0.1236\n",
      "price            -0.0603     0.0049    -12.218     0.0000     -0.0700     -0.0506\n",
      "=================================================================================\n",
      "\n",
      "Endogenous: price\n",
      "Instruments: iv_1\n",
      "Robust Covariance (Heteroskedastic)\n",
      "Debiased: False\n"
     ]
    }
   ],
   "source": [
    "print(iv_1_res)"
   ]
  },
  {
   "cell_type": "code",
   "execution_count": 193,
   "id": "55f5e4c4",
   "metadata": {},
   "outputs": [],
   "source": [
    "iv_2_res = lm.IV2SLS(data['log_diff'],data[['channels','channels_spec','j_1','j_2']],data['price'],data['iv_2']).fit()"
   ]
  },
  {
   "cell_type": "code",
   "execution_count": 194,
   "id": "497cafa8",
   "metadata": {},
   "outputs": [
    {
     "name": "stdout",
     "output_type": "stream",
     "text": [
      "                          IV-2SLS Estimation Summary                          \n",
      "==============================================================================\n",
      "Dep. Variable:               log_diff   R-squared:                      0.3651\n",
      "Estimator:                    IV-2SLS   Adj. R-squared:                 0.3587\n",
      "No. Observations:                 400   F-statistic:                    1307.9\n",
      "Date:                Thu, Feb 03 2022   P-value (F-stat)                0.0000\n",
      "Time:                        20:49:12   Distribution:                  chi2(5)\n",
      "Cov. Estimator:                robust                                         \n",
      "                                                                              \n",
      "                               Parameter Estimates                               \n",
      "=================================================================================\n",
      "               Parameter  Std. Err.     T-stat    P-value    Lower CI    Upper CI\n",
      "---------------------------------------------------------------------------------\n",
      "channels          0.0186     0.0018     10.141     0.0000      0.0150      0.0222\n",
      "channels_spec     0.1428     0.0221     6.4664     0.0000      0.0995      0.1861\n",
      "j_1               0.1697     0.9214     0.1842     0.8539     -1.6362      1.9755\n",
      "j_2              -0.3492     0.8400    -0.4157     0.6776     -1.9956      1.2972\n",
      "price            -0.0574     0.0255    -2.2467     0.0247     -0.1074     -0.0073\n",
      "=================================================================================\n",
      "\n",
      "Endogenous: price\n",
      "Instruments: iv_2\n",
      "Robust Covariance (Heteroskedastic)\n",
      "Debiased: False\n"
     ]
    }
   ],
   "source": [
    "print(iv_2_res)"
   ]
  },
  {
   "cell_type": "code",
   "execution_count": null,
   "id": "009af6d3",
   "metadata": {},
   "outputs": [],
   "source": []
  }
 ],
 "metadata": {
  "kernelspec": {
   "display_name": "Python 3 (ipykernel)",
   "language": "python",
   "name": "python3"
  },
  "language_info": {
   "codemirror_mode": {
    "name": "ipython",
    "version": 3
   },
   "file_extension": ".py",
   "mimetype": "text/x-python",
   "name": "python",
   "nbconvert_exporter": "python",
   "pygments_lexer": "ipython3",
   "version": "3.7.4"
  }
 },
 "nbformat": 4,
 "nbformat_minor": 5
}
