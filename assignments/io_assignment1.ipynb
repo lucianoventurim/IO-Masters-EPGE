{
 "cells": [
  {
   "cell_type": "markdown",
   "id": "f5ddbf7e",
   "metadata": {},
   "source": [
    "### Industrial Organization - Assignment 1\n",
    "##### Luciano Fabio Busatto Venturim\n",
    "##### 1st Quarter - 2022\n",
    "##### EPGE/FGV"
   ]
  },
  {
   "cell_type": "code",
   "execution_count": 1,
   "id": "c8cb40e0",
   "metadata": {},
   "outputs": [],
   "source": [
    "import numpy as np\n",
    "import pandas as pd\n",
    "import statsmodels.api as sm\n",
    "import linearmodels as lm\n",
    "from numba import njit"
   ]
  },
  {
   "cell_type": "markdown",
   "id": "36bc4b3d",
   "metadata": {},
   "source": [
    "### Part 1 - Logit"
   ]
  },
  {
   "cell_type": "markdown",
   "id": "e5566519",
   "metadata": {},
   "source": [
    "First read the data."
   ]
  },
  {
   "cell_type": "code",
   "execution_count": 2,
   "id": "6542de45",
   "metadata": {},
   "outputs": [],
   "source": [
    "data = pd.read_csv('../data/io_assignment1_data.txt')"
   ]
  },
  {
   "cell_type": "code",
   "execution_count": 3,
   "id": "c04af02b",
   "metadata": {},
   "outputs": [],
   "source": [
    "#number of observations\n",
    "t = len(data)"
   ]
  },
  {
   "cell_type": "markdown",
   "id": "53136fc0",
   "metadata": {},
   "source": [
    "I then create the market-share for the outside good $j=0$, and our dependent variable $log(s_{jt})-log(s_{0t})$ to perform the regression."
   ]
  },
  {
   "cell_type": "code",
   "execution_count": 4,
   "id": "492eb512",
   "metadata": {},
   "outputs": [],
   "source": [
    "data['ms0'] = 1 - data.groupby('t')['ms'].transform(sum)"
   ]
  },
  {
   "cell_type": "code",
   "execution_count": 5,
   "id": "4631fa02",
   "metadata": {},
   "outputs": [],
   "source": [
    "data['log_diff'] = np.log(data['ms'])-np.log(data['ms0'])"
   ]
  },
  {
   "cell_type": "markdown",
   "id": "e88ffe82",
   "metadata": {},
   "source": [
    "Since we allow for systematic differences in the firm's quality, which we do not observe, what we have is a model with fixed-effects. Therefore, we get the LSDV estimator adding dummy variables for each firm $j$."
   ]
  },
  {
   "cell_type": "code",
   "execution_count": 6,
   "id": "637a34e3",
   "metadata": {},
   "outputs": [],
   "source": [
    "data[['j_1','j_2']] = pd.get_dummies(data, columns=['j'])[['j_1','j_2']]"
   ]
  },
  {
   "cell_type": "code",
   "execution_count": 7,
   "id": "87eca7a4",
   "metadata": {},
   "outputs": [
    {
     "data": {
      "text/html": [
       "<div>\n",
       "<style scoped>\n",
       "    .dataframe tbody tr th:only-of-type {\n",
       "        vertical-align: middle;\n",
       "    }\n",
       "\n",
       "    .dataframe tbody tr th {\n",
       "        vertical-align: top;\n",
       "    }\n",
       "\n",
       "    .dataframe thead th {\n",
       "        text-align: right;\n",
       "    }\n",
       "</style>\n",
       "<table border=\"1\" class=\"dataframe\">\n",
       "  <thead>\n",
       "    <tr style=\"text-align: right;\">\n",
       "      <th></th>\n",
       "      <th>t</th>\n",
       "      <th>r</th>\n",
       "      <th>j</th>\n",
       "      <th>ms</th>\n",
       "      <th>price</th>\n",
       "      <th>channels</th>\n",
       "      <th>channels_spec</th>\n",
       "      <th>ms0</th>\n",
       "      <th>log_diff</th>\n",
       "      <th>j_1</th>\n",
       "      <th>j_2</th>\n",
       "    </tr>\n",
       "  </thead>\n",
       "  <tbody>\n",
       "    <tr>\n",
       "      <th>0</th>\n",
       "      <td>1</td>\n",
       "      <td>1</td>\n",
       "      <td>1</td>\n",
       "      <td>0.226</td>\n",
       "      <td>39</td>\n",
       "      <td>17</td>\n",
       "      <td>3</td>\n",
       "      <td>0.524</td>\n",
       "      <td>-0.840957</td>\n",
       "      <td>1</td>\n",
       "      <td>0</td>\n",
       "    </tr>\n",
       "    <tr>\n",
       "      <th>1</th>\n",
       "      <td>1</td>\n",
       "      <td>1</td>\n",
       "      <td>2</td>\n",
       "      <td>0.250</td>\n",
       "      <td>35</td>\n",
       "      <td>43</td>\n",
       "      <td>2</td>\n",
       "      <td>0.524</td>\n",
       "      <td>-0.740031</td>\n",
       "      <td>0</td>\n",
       "      <td>1</td>\n",
       "    </tr>\n",
       "    <tr>\n",
       "      <th>2</th>\n",
       "      <td>2</td>\n",
       "      <td>1</td>\n",
       "      <td>1</td>\n",
       "      <td>0.163</td>\n",
       "      <td>37</td>\n",
       "      <td>21</td>\n",
       "      <td>2</td>\n",
       "      <td>0.656</td>\n",
       "      <td>-1.392411</td>\n",
       "      <td>1</td>\n",
       "      <td>0</td>\n",
       "    </tr>\n",
       "    <tr>\n",
       "      <th>3</th>\n",
       "      <td>2</td>\n",
       "      <td>1</td>\n",
       "      <td>2</td>\n",
       "      <td>0.181</td>\n",
       "      <td>33</td>\n",
       "      <td>67</td>\n",
       "      <td>2</td>\n",
       "      <td>0.656</td>\n",
       "      <td>-1.287664</td>\n",
       "      <td>0</td>\n",
       "      <td>1</td>\n",
       "    </tr>\n",
       "    <tr>\n",
       "      <th>4</th>\n",
       "      <td>3</td>\n",
       "      <td>1</td>\n",
       "      <td>1</td>\n",
       "      <td>0.221</td>\n",
       "      <td>39</td>\n",
       "      <td>50</td>\n",
       "      <td>5</td>\n",
       "      <td>0.521</td>\n",
       "      <td>-0.857587</td>\n",
       "      <td>1</td>\n",
       "      <td>0</td>\n",
       "    </tr>\n",
       "  </tbody>\n",
       "</table>\n",
       "</div>"
      ],
      "text/plain": [
       "   t  r  j     ms  price  channels  channels_spec    ms0  log_diff  j_1  j_2\n",
       "0  1  1  1  0.226     39        17              3  0.524 -0.840957    1    0\n",
       "1  1  1  2  0.250     35        43              2  0.524 -0.740031    0    1\n",
       "2  2  1  1  0.163     37        21              2  0.656 -1.392411    1    0\n",
       "3  2  1  2  0.181     33        67              2  0.656 -1.287664    0    1\n",
       "4  3  1  1  0.221     39        50              5  0.521 -0.857587    1    0"
      ]
     },
     "execution_count": 7,
     "metadata": {},
     "output_type": "execute_result"
    }
   ],
   "source": [
    "data.head()"
   ]
  },
  {
   "cell_type": "markdown",
   "id": "7443a7b2",
   "metadata": {},
   "source": [
    "With the data ready, I run a OLS of the variable 'log_diff' on 'price', 'channels', 'channels_spec', and the dummies, without worrying about possible endogeneity of the variable price."
   ]
  },
  {
   "cell_type": "code",
   "execution_count": 8,
   "id": "29ccab69",
   "metadata": {},
   "outputs": [],
   "source": [
    "end_model = sm.OLS(data['log_diff'],data[['price','channels','channels_spec','j_1','j_2']])"
   ]
  },
  {
   "cell_type": "code",
   "execution_count": 9,
   "id": "6e0600ef",
   "metadata": {},
   "outputs": [],
   "source": [
    "end_results = end_model.fit()"
   ]
  },
  {
   "cell_type": "markdown",
   "id": "22e68b81",
   "metadata": {},
   "source": [
    "If the standard errors are clustered at the firm level, we get"
   ]
  },
  {
   "cell_type": "code",
   "execution_count": 10,
   "id": "177f269d",
   "metadata": {},
   "outputs": [],
   "source": [
    "end_results_rob = end_results.get_robustcov_results(cov_type = 'cluster', groups = data['j'])"
   ]
  },
  {
   "cell_type": "code",
   "execution_count": 11,
   "id": "cf5dce6a",
   "metadata": {},
   "outputs": [
    {
     "name": "stdout",
     "output_type": "stream",
     "text": [
      "                        Logit model without intruments                        \n",
      "==============================================================================\n",
      "Dep. Variable:               log_diff   R-squared:                       0.395\n",
      "Model:                            OLS   Adj. R-squared:                  0.389\n",
      "Method:                 Least Squares   F-statistic:                       nan\n",
      "Date:                Thu, 17 Feb 2022   Prob (F-statistic):                nan\n",
      "Time:                        13:35:40   Log-Likelihood:                -341.22\n",
      "No. Observations:                 400   AIC:                             692.4\n",
      "Df Residuals:                     395   BIC:                             712.4\n",
      "Df Model:                           4                                         \n",
      "Covariance Type:              cluster                                         \n",
      "=================================================================================\n",
      "                    coef    std err          t      P>|t|      [0.025      0.975]\n",
      "---------------------------------------------------------------------------------\n",
      "price            -0.0388      0.003    -11.991      0.053      -0.080       0.002\n",
      "channels          0.0180      0.001     21.624      0.029       0.007       0.029\n",
      "channels_spec     0.1356      0.022      6.099      0.103      -0.147       0.418\n",
      "j_1              -0.4848      0.224     -2.165      0.276      -3.331       2.361\n",
      "j_2              -0.9486      0.211     -4.493      0.139      -3.631       1.734\n",
      "==============================================================================\n",
      "Omnibus:                        4.280   Durbin-Watson:                   2.235\n",
      "Prob(Omnibus):                  0.118   Jarque-Bera (JB):                4.335\n",
      "Skew:                          -0.251   Prob(JB):                        0.114\n",
      "Kurtosis:                       2.915   Cond. No.                         474.\n",
      "==============================================================================\n",
      "\n",
      "Notes:\n",
      "[1] Standard Errors are robust to cluster correlation (cluster)\n"
     ]
    }
   ],
   "source": [
    "print(end_results_rob.summary(title = 'Logit model without intruments'))"
   ]
  },
  {
   "cell_type": "markdown",
   "id": "5467eb33",
   "metadata": {},
   "source": [
    "Now, I use IV regression to deal with probable endogeneity of 'price'. 'iv_1' is price of the same firm in different cities but in the same region. 'iv_2' is price of the same firm in different cities but in different regions."
   ]
  },
  {
   "cell_type": "markdown",
   "id": "b931c332",
   "metadata": {},
   "source": [
    "To test robustness of each instrument, I use three different instruments for each kind of intrument described above. "
   ]
  },
  {
   "cell_type": "code",
   "execution_count": 12,
   "id": "cdb8d041",
   "metadata": {},
   "outputs": [],
   "source": [
    "data['iv_1'] = data.groupby('r')['price'].transform(lambda x: np.roll(x, shift = 2))"
   ]
  },
  {
   "cell_type": "code",
   "execution_count": 13,
   "id": "e34b935a",
   "metadata": {},
   "outputs": [],
   "source": [
    "iv_11_model = lm.IV2SLS(data['log_diff'],data[['channels','channels_spec','j_1','j_2']],data['price'],data['iv_1'])"
   ]
  },
  {
   "cell_type": "code",
   "execution_count": 14,
   "id": "5c0dfd03",
   "metadata": {},
   "outputs": [],
   "source": [
    "iv_11_results = iv_11_model.fit(cov_type='clustered', clusters = data['j'])"
   ]
  },
  {
   "cell_type": "code",
   "execution_count": 15,
   "id": "6c968367",
   "metadata": {},
   "outputs": [
    {
     "name": "stdout",
     "output_type": "stream",
     "text": [
      "                          IV-2SLS Estimation Summary                          \n",
      "==============================================================================\n",
      "Dep. Variable:               log_diff   R-squared:                      0.3550\n",
      "Estimator:                    IV-2SLS   Adj. R-squared:                 0.3485\n",
      "No. Observations:                 400   F-statistic:                  1.51e+18\n",
      "Date:                Thu, Feb 17 2022   P-value (F-stat)                0.0000\n",
      "Time:                        13:35:42   Distribution:                  chi2(5)\n",
      "Cov. Estimator:             clustered                                         \n",
      "                                                                              \n",
      "                               Parameter Estimates                               \n",
      "=================================================================================\n",
      "               Parameter  Std. Err.     T-stat    P-value    Lower CI    Upper CI\n",
      "---------------------------------------------------------------------------------\n",
      "channels          0.0187     0.0006     33.475     0.0000      0.0176      0.0198\n",
      "channels_spec     0.1440     0.0151     9.5635     0.0000      0.1145      0.1735\n",
      "j_1               0.2727     0.1949     1.3996     0.1616     -0.1092      0.6546\n",
      "j_2              -0.2548     0.1827    -1.3949     0.1630     -0.6129      0.1032\n",
      "price            -0.0603     0.0033    -18.058     0.0000     -0.0668     -0.0538\n",
      "=================================================================================\n",
      "\n",
      "Endogenous: price\n",
      "Instruments: iv_1\n",
      "Clustered Covariance (One-Way)\n",
      "Debiased: False\n",
      "Num Clusters: 2\n"
     ]
    }
   ],
   "source": [
    "print(iv_11_results)"
   ]
  },
  {
   "cell_type": "code",
   "execution_count": 16,
   "id": "4848c73c",
   "metadata": {},
   "outputs": [],
   "source": [
    "iv_12_results = lm.IV2SLS(data['log_diff'],data[['channels','channels_spec','j_1','j_2']],data['price'],\n",
    "                       data.groupby('r')['price'].transform(lambda x: np.roll(x, shift = 4))).fit(cov_type='clustered', clusters = data['j'])"
   ]
  },
  {
   "cell_type": "code",
   "execution_count": 17,
   "id": "09e37880",
   "metadata": {},
   "outputs": [],
   "source": [
    "iv_13_results = lm.IV2SLS(data['log_diff'],data[['channels','channels_spec','j_1','j_2']],data['price'],\n",
    "                       data.groupby('r')['price'].transform(lambda x: np.roll(x, shift = 6))).fit(cov_type='clustered', clusters = data['j'])"
   ]
  },
  {
   "cell_type": "code",
   "execution_count": 18,
   "id": "cbdcae3f",
   "metadata": {},
   "outputs": [
    {
     "name": "stdout",
     "output_type": "stream",
     "text": [
      "                        Model Comparison                       \n",
      "===============================================================\n",
      "                             iv_11         iv_12          iv_13\n",
      "---------------------------------------------------------------\n",
      "Dep. Variable             log_diff      log_diff       log_diff\n",
      "Estimator                  IV-2SLS       IV-2SLS        IV-2SLS\n",
      "No. Observations               400           400            400\n",
      "Cov. Est.                clustered     clustered      clustered\n",
      "R-squared                   0.3550        0.3444         0.3523\n",
      "Adj. R-squared              0.3485        0.3378         0.3457\n",
      "F-statistic               1.51e+18     1.115e+19     -1.281e+19\n",
      "P-value (F-stat)            0.0000        0.0000         1.0000\n",
      "==================     ===========   ===========   ============\n",
      "channels                    0.0187        0.0188         0.0187\n",
      "                          (33.475)      (32.690)       (33.141)\n",
      "channels_spec               0.1440        0.1450         0.1442\n",
      "                          (9.5635)      (9.5362)       (9.5412)\n",
      "j_1                         0.2727        0.3672         0.2980\n",
      "                          (1.3996)      (2.0501)       (1.5811)\n",
      "j_2                        -0.2548       -0.1683        -0.2316\n",
      "                         (-1.3949)     (-1.0003)      (-1.3097)\n",
      "price                      -0.0603       -0.0630        -0.0610\n",
      "                         (-18.058)     (-21.764)      (-19.313)\n",
      "==================== ============= ============= ==============\n",
      "Instruments                   iv_1         price          price\n",
      "---------------------------------------------------------------\n",
      "\n",
      "T-stats reported in parentheses\n"
     ]
    }
   ],
   "source": [
    "print(lm.iv.compare({'iv_11':iv_11_results,'iv_12':iv_12_results,'iv_13':iv_13_results}))"
   ]
  },
  {
   "cell_type": "markdown",
   "id": "aed66e94",
   "metadata": {},
   "source": [
    "IV_11, IV_12, and IV_13 are prices of the same firm, within the same region, but for different cities. Note that the estimated parameters are approximately equal."
   ]
  },
  {
   "cell_type": "markdown",
   "id": "4c0fe0c5",
   "metadata": {},
   "source": [
    "Using the second instrumental variable, I get the following results."
   ]
  },
  {
   "cell_type": "code",
   "execution_count": 19,
   "id": "27fc300b",
   "metadata": {},
   "outputs": [],
   "source": [
    "data['iv_2'] = np.roll(data['price'].values,10)"
   ]
  },
  {
   "cell_type": "code",
   "execution_count": 20,
   "id": "55f5e4c4",
   "metadata": {},
   "outputs": [],
   "source": [
    "iv_21_model = lm.IV2SLS(data['log_diff'],data[['channels','channels_spec','j_1','j_2']],data['price'],data['iv_2'])"
   ]
  },
  {
   "cell_type": "code",
   "execution_count": 21,
   "id": "92e224bf",
   "metadata": {},
   "outputs": [],
   "source": [
    "iv_21_results = iv_21_model.fit(cov_type='clustered', clusters = data['j'])"
   ]
  },
  {
   "cell_type": "code",
   "execution_count": 22,
   "id": "c6c1bd34",
   "metadata": {},
   "outputs": [
    {
     "name": "stdout",
     "output_type": "stream",
     "text": [
      "                          IV-2SLS Estimation Summary                          \n",
      "==============================================================================\n",
      "Dep. Variable:               log_diff   R-squared:                      0.3651\n",
      "Estimator:                    IV-2SLS   Adj. R-squared:                 0.3587\n",
      "No. Observations:                 400   F-statistic:                -1.958e+15\n",
      "Date:                Thu, Feb 17 2022   P-value (F-stat)                1.0000\n",
      "Time:                        13:35:44   Distribution:                  chi2(5)\n",
      "Cov. Estimator:             clustered                                         \n",
      "                                                                              \n",
      "                               Parameter Estimates                               \n",
      "=================================================================================\n",
      "               Parameter  Std. Err.     T-stat    P-value    Lower CI    Upper CI\n",
      "---------------------------------------------------------------------------------\n",
      "channels          0.0186     0.0002     99.372     0.0000      0.0182      0.0190\n",
      "channels_spec     0.1428     0.0108     13.250     0.0000      0.1217      0.1639\n",
      "j_1               0.1697     0.5831     0.2910     0.7711     -0.9732      1.3125\n",
      "j_2              -0.3492     0.5383    -0.6488     0.5165     -1.4042      0.7058\n",
      "price            -0.0574     0.0143    -4.0015     0.0001     -0.0855     -0.0293\n",
      "=================================================================================\n",
      "\n",
      "Endogenous: price\n",
      "Instruments: iv_2\n",
      "Clustered Covariance (One-Way)\n",
      "Debiased: False\n",
      "Num Clusters: 2\n"
     ]
    }
   ],
   "source": [
    "print(iv_21_results)"
   ]
  },
  {
   "cell_type": "code",
   "execution_count": 23,
   "id": "8ac4f92a",
   "metadata": {},
   "outputs": [],
   "source": [
    "iv_22_results = lm.IV2SLS(data['log_diff'],data[['channels','channels_spec','j_1','j_2']],data['price'],\n",
    "                          np.roll(data['price'].values,20)).fit(cov_type='clustered', clusters = data['j'])"
   ]
  },
  {
   "cell_type": "code",
   "execution_count": 24,
   "id": "1b2ac9d9",
   "metadata": {},
   "outputs": [],
   "source": [
    "iv_23_results = lm.IV2SLS(data['log_diff'],data[['channels','channels_spec','j_1','j_2']],data['price'],\n",
    "                          np.roll(data['price'].values,30)).fit(cov_type='clustered', clusters = data['j'])"
   ]
  },
  {
   "cell_type": "code",
   "execution_count": 25,
   "id": "05d030f3",
   "metadata": {},
   "outputs": [
    {
     "name": "stdout",
     "output_type": "stream",
     "text": [
      "                        Model Comparison                       \n",
      "===============================================================\n",
      "                              iv_21         iv_22         iv_23\n",
      "---------------------------------------------------------------\n",
      "Dep. Variable              log_diff      log_diff      log_diff\n",
      "Estimator                   IV-2SLS       IV-2SLS       IV-2SLS\n",
      "No. Observations                400           400           400\n",
      "Cov. Est.                 clustered     clustered     clustered\n",
      "R-squared                    0.3651       -25.779       -1.3121\n",
      "Adj. R-squared               0.3587       -26.051       -1.3356\n",
      "F-statistic              -1.958e+15     1.496e+15     9.644e+16\n",
      "P-value (F-stat)             1.0000        0.0000        0.0000\n",
      "==================     ============   ===========   ===========\n",
      "channels                     0.0186       -0.0005        0.0227\n",
      "                           (99.372)     (-0.0033)      (8.0238)\n",
      "channels_spec                0.1428       -0.0790        0.1904\n",
      "                           (13.250)     (-0.0444)      (4.7763)\n",
      "j_1                          0.1697       -19.866        4.4650\n",
      "                           (0.2910)     (-0.1251)      (2.0939)\n",
      "j_2                         -0.3492       -18.701        3.5849\n",
      "                          (-0.6488)     (-0.1286)      (1.8395)\n",
      "price                       -0.0574        0.5104       -0.1791\n",
      "                          (-4.0015)      (0.1134)     (-2.8617)\n",
      "==================== ============== ============= =============\n",
      "Instruments                    iv_2   instruments   instruments\n",
      "---------------------------------------------------------------\n",
      "\n",
      "T-stats reported in parentheses\n"
     ]
    }
   ],
   "source": [
    "print(lm.iv.compare({'iv_21':iv_21_results,'iv_22':iv_22_results,'iv_23':iv_23_results}))"
   ]
  },
  {
   "cell_type": "markdown",
   "id": "75ed1e4a",
   "metadata": {},
   "source": [
    "IV_21, IV_22, and IV_23 are prices of the same firm, but in different regions. Note that there are large variations in the estimated parameters in the different especifications. This indicates that the validity of \"prices of the same firm in different regions\" instruments might not hold. Therefore, the model with IV_11, using \"prices of the same firm, within the same region, for different cities\", is my prefered especification."
   ]
  },
  {
   "cell_type": "markdown",
   "id": "df85b3cf",
   "metadata": {},
   "source": [
    "### Part 2 - Random Coefficients Logit"
   ]
  },
  {
   "cell_type": "markdown",
   "id": "d175b2d8",
   "metadata": {},
   "source": [
    "I first take the $\\eta_{it,s}$ random draws"
   ]
  },
  {
   "cell_type": "code",
   "execution_count": 26,
   "id": "ad99150f",
   "metadata": {},
   "outputs": [],
   "source": [
    "np.random.seed(1)\n",
    "\n",
    "#number of draws and cities\n",
    "hs = 500\n",
    "cities = 200\n",
    "\n",
    "#each city has the same eta_s for both firms\n",
    "eta = np.repeat(np.random.normal(size = cities*hs),2)"
   ]
  },
  {
   "cell_type": "markdown",
   "id": "65042bd8",
   "metadata": {},
   "source": [
    "Let's create the matrices $\\tilde{W}$ and $P$ defined in the written solution."
   ]
  },
  {
   "cell_type": "code",
   "execution_count": 27,
   "id": "080ae983",
   "metadata": {},
   "outputs": [],
   "source": [
    "z = data.loc[:,['iv_1','channels','channels_spec','j_1', 'j_2']]\n",
    "z[['channels_bpl','channels_spec_blp']] = data.groupby('t')[['channels','channels_spec']].transform(lambda x: np.roll(x, shift = 1))\n",
    "\n",
    "z = z.values.astype('float64')\n",
    "x = data.loc[:,['j_1','j_2','channels','channels_spec','price']].values"
   ]
  },
  {
   "cell_type": "code",
   "execution_count": 28,
   "id": "c47bcc96",
   "metadata": {},
   "outputs": [],
   "source": [
    "#w is the weighting matrix\n",
    "\n",
    "#w = np.linalg.inv(z.T@z)\n",
    "w = np.identity(7)"
   ]
  },
  {
   "cell_type": "code",
   "execution_count": 29,
   "id": "678d75fe",
   "metadata": {},
   "outputs": [],
   "source": [
    "w_tilde = z@w@z.T\n",
    "p = np.identity(t)-x@np.linalg.inv(x.T@z@w@z.T@x)@x.T@z@w@z.T"
   ]
  },
  {
   "cell_type": "code",
   "execution_count": 30,
   "id": "86bb3a87",
   "metadata": {},
   "outputs": [],
   "source": [
    "#define the numpy array price and market_shares to work with numba's jit\n",
    "price = data['price'].values\n",
    "market_share = data['ms'].values"
   ]
  },
  {
   "cell_type": "code",
   "execution_count": 31,
   "id": "b7d61b56",
   "metadata": {},
   "outputs": [],
   "source": [
    "@njit\n",
    "def market_share_function(delta = np.zeros(400),sigma=0, price = np.zeros(400)):\n",
    "    \"\"\"\n",
    "    sigma is a real number. delta is a vector (each entry is a different product x market pair). It is assumed that the\n",
    "    entries of delta is organized in such a way that entries for different products in the same market are grouped together,\n",
    "    i.e., products of city 1 have index from 0 to 1, those of city 2 have index from 2 to 3, and\n",
    "    so on. eta and price are defined outside the function to make the function run faster. t is the length of the dataset.\n",
    "    \n",
    "    This function returns a vector of market-shares for given delta and sigma.\n",
    "    \"\"\"\n",
    "    \n",
    "    ms = np.zeros(t)\n",
    "    \n",
    "    for step in range(hs):\n",
    "        s = np.exp(delta + sigma*eta[400*step:400*(step+1)]*price)\n",
    "        sum_s = np.repeat(1+s[::2]+s[1::2],2)\n",
    "        ms += s/sum_s\n",
    "    \n",
    "    return(ms/hs)"
   ]
  },
  {
   "cell_type": "code",
   "execution_count": 32,
   "id": "440df368",
   "metadata": {},
   "outputs": [],
   "source": [
    "@njit\n",
    "def ms_inverter(sigma = 0, tol = 10e-10, max_iter = 10000, delta_init = np.zeros(400)):\n",
    "    \"\"\"\n",
    "    This function returns a vector of deltas, the mean utility, that equates the market-share function and the observed\n",
    "    market-shares for a given sigma.\n",
    "    \"\"\"\n",
    "\n",
    "    error = 10\n",
    "    n_iter = 0\n",
    "    delta_i = delta_init\n",
    "    while error > tol:\n",
    "        delta_next = delta_i + np.log(market_share) - np.log(market_share_function(delta = delta_i, sigma = sigma,price = price))\n",
    "        error = np.max(np.absolute(delta_next-delta_i))\n",
    "        delta_i = delta_next\n",
    "        \n",
    "        n_iter += 1\n",
    "        if n_iter > max_iter:\n",
    "            return(None)\n",
    "            break\n",
    "    \n",
    "    return(delta_next)"
   ]
  },
  {
   "cell_type": "code",
   "execution_count": 33,
   "id": "431ee767",
   "metadata": {},
   "outputs": [],
   "source": [
    "@njit\n",
    "def j_function_minimizer(sigma_min = 0, sigma_max = 0.2, n_points = 40):\n",
    "    \"\"\"\n",
    "    This function evaluates the objective function of the GMM minimization problem for our case of interest\n",
    "    and finds its minimun using grid-search at sigma.\n",
    "    \"\"\"\n",
    "    \n",
    "    sigma_grid = np.linspace(sigma_min, sigma_max, n_points)\n",
    "    j_grid = np.zeros(n_points)\n",
    "    for index, value in enumerate(sigma_grid):\n",
    "        j_sigma = (ms_inverter(value).T@p.T)@w_tilde@(p@ms_inverter(value))\n",
    "        j_grid[index] = j_sigma\n",
    "    \n",
    "    return(np.min(j_grid), sigma_grid[np.argmin(j_grid)])"
   ]
  },
  {
   "cell_type": "code",
   "execution_count": 34,
   "id": "1a16b9ea",
   "metadata": {},
   "outputs": [],
   "source": [
    "j_min, sigma_min = j_function_minimizer()"
   ]
  },
  {
   "cell_type": "code",
   "execution_count": 35,
   "id": "114c9088",
   "metadata": {},
   "outputs": [
    {
     "data": {
      "text/plain": [
       "0.020512820512820513"
      ]
     },
     "execution_count": 35,
     "metadata": {},
     "output_type": "execute_result"
    }
   ],
   "source": [
    "sigma_min"
   ]
  },
  {
   "cell_type": "code",
   "execution_count": 36,
   "id": "7eb7932c",
   "metadata": {},
   "outputs": [
    {
     "data": {
      "text/plain": [
       "50.488539515012405"
      ]
     },
     "execution_count": 36,
     "metadata": {},
     "output_type": "execute_result"
    }
   ],
   "source": [
    "j_min"
   ]
  },
  {
   "cell_type": "markdown",
   "id": "58bae7df",
   "metadata": {},
   "source": [
    "With sigma_min in hands, we can get the estimator of $\\beta$"
   ]
  },
  {
   "cell_type": "code",
   "execution_count": 37,
   "id": "5df1c7e1",
   "metadata": {},
   "outputs": [],
   "source": [
    "beta = (np.linalg.inv(x.T@z@w@z.T@x)@x.T@z@w@z.T)@ms_inverter(sigma_min)"
   ]
  },
  {
   "cell_type": "code",
   "execution_count": 38,
   "id": "e02e62b8",
   "metadata": {},
   "outputs": [
    {
     "data": {
      "text/html": [
       "<div>\n",
       "<style scoped>\n",
       "    .dataframe tbody tr th:only-of-type {\n",
       "        vertical-align: middle;\n",
       "    }\n",
       "\n",
       "    .dataframe tbody tr th {\n",
       "        vertical-align: top;\n",
       "    }\n",
       "\n",
       "    .dataframe thead th {\n",
       "        text-align: right;\n",
       "    }\n",
       "</style>\n",
       "<table border=\"1\" class=\"dataframe\">\n",
       "  <thead>\n",
       "    <tr style=\"text-align: right;\">\n",
       "      <th></th>\n",
       "      <th>beta_01</th>\n",
       "      <th>beta_02</th>\n",
       "      <th>channels</th>\n",
       "      <th>channels_spec</th>\n",
       "      <th>price</th>\n",
       "    </tr>\n",
       "  </thead>\n",
       "  <tbody>\n",
       "    <tr>\n",
       "      <th>0</th>\n",
       "      <td>-0.078285</td>\n",
       "      <td>-0.57513</td>\n",
       "      <td>0.02099</td>\n",
       "      <td>0.167768</td>\n",
       "      <td>-0.056866</td>\n",
       "    </tr>\n",
       "  </tbody>\n",
       "</table>\n",
       "</div>"
      ],
      "text/plain": [
       "    beta_01  beta_02  channels  channels_spec     price\n",
       "0 -0.078285 -0.57513   0.02099       0.167768 -0.056866"
      ]
     },
     "execution_count": 38,
     "metadata": {},
     "output_type": "execute_result"
    }
   ],
   "source": [
    "pd.DataFrame(data = {name:[par] for name,par in zip(['beta_01','beta_02','channels','channels_spec','price'],beta)})"
   ]
  },
  {
   "cell_type": "markdown",
   "id": "3788897f",
   "metadata": {},
   "source": [
    "### Part 3 - Counterfactuals"
   ]
  },
  {
   "cell_type": "code",
   "execution_count": 39,
   "id": "bf142c4a",
   "metadata": {},
   "outputs": [],
   "source": [
    "#selecting draws only for the representative city\n",
    "eta = eta[::400] "
   ]
  },
  {
   "cell_type": "code",
   "execution_count": 40,
   "id": "3f448650",
   "metadata": {},
   "outputs": [],
   "source": [
    "x_conv = np.array([40,40])\n",
    "x_spec = np.array([3,3])\n",
    "mc = np.array([24,24])"
   ]
  },
  {
   "cell_type": "code",
   "execution_count": 41,
   "id": "2f298934",
   "metadata": {},
   "outputs": [],
   "source": [
    "@njit\n",
    "def msf_eq(price = np.zeros(2), x_conv = np.zeros(2), x_spec = np.zeros(2), beta = np.zeros(2), sigma = 0):\n",
    "    \"\"\"    \n",
    "    This function returns a vector of market-shares for given vector of prices\n",
    "    \"\"\"\n",
    "    delta = beta[0:2] + beta[2]*x_conv + beta[3]*x_spec + beta[4]*price \n",
    "    ms = np.zeros(2)\n",
    "    \n",
    "    for step in range(hs):\n",
    "        s = np.exp(delta + sigma*eta[step]*price)\n",
    "        ms += s/(1+s[0]+s[1])\n",
    "    \n",
    "    return(ms/hs)"
   ]
  },
  {
   "cell_type": "code",
   "execution_count": 42,
   "id": "d5312347",
   "metadata": {},
   "outputs": [],
   "source": [
    "@njit\n",
    "def msf_derivative(price = np.zeros(2), x_conv = np.zeros(2), x_spec = np.zeros(2), beta = np.zeros(5), sigma = 0):\n",
    "    \"\"\"    \n",
    "    This function returns a matrix of market-shares derivatives for given vector of prices\n",
    "    \"\"\"\n",
    "    delta = beta[0:2] + beta[2]*x_conv + beta[3]*x_spec + beta[4]*price \n",
    "    ms = np.zeros((2,2))\n",
    "    \n",
    "    for step in range(hs):\n",
    "        s = np.exp(delta + sigma*eta[step]*price)\n",
    "        ms[0,0] += ((sigma*eta[step]+beta[4])*s[0]*(1+s[1]))/(1+s[0]+s[1])**2\n",
    "        ms[1,1] += ((sigma*eta[step]+beta[4])*s[1]*(1+s[0]))/(1+s[0]+s[1])**2        \n",
    "    return(ms/hs)"
   ]
  },
  {
   "cell_type": "markdown",
   "id": "f7f29ce4",
   "metadata": {},
   "source": [
    "Now we implement the iteration algorithm"
   ]
  },
  {
   "cell_type": "markdown",
   "id": "e83113f5",
   "metadata": {},
   "source": [
    "For the values of the representative market:"
   ]
  },
  {
   "cell_type": "code",
   "execution_count": 43,
   "id": "3debdd5d",
   "metadata": {},
   "outputs": [],
   "source": [
    "def eq_prices(x_conv, x_spec, beta, sigma, mc, tol = 10e-10, max_iter = 10000):\n",
    "    \"\"\"\n",
    "    This function returns the equilibrium price of the Nash-Bertrand game. It uses the firms' first-order conditions as a\n",
    "    a recursion to find the equilibrium prices\n",
    "    \"\"\"\n",
    "    \n",
    "    error = 10\n",
    "    iter_i = 0\n",
    "\n",
    "    p_init = mc\n",
    "    p_next = np.zeros(2)\n",
    "    \n",
    "    while (error > tol) and (iter_i < max_iter):\n",
    "        p_next = mc - np.linalg.inv(msf_derivative(p_init, x_conv, x_spec, beta, sigma_min))@msf_eq(p_init, x_conv, x_spec, beta, sigma_min)\n",
    "        error = np.max(np.absolute(p_next-p_init))\n",
    "\n",
    "        p_init = p_next\n",
    "    \n",
    "    return(p_next)"
   ]
  },
  {
   "cell_type": "code",
   "execution_count": 44,
   "id": "5bab04fd",
   "metadata": {},
   "outputs": [
    {
     "data": {
      "text/plain": [
       "array([53.00025718, 50.32706842])"
      ]
     },
     "execution_count": 44,
     "metadata": {},
     "output_type": "execute_result"
    }
   ],
   "source": [
    "eq_prices(x_conv,x_spec,beta,sigma_min,mc)"
   ]
  },
  {
   "cell_type": "markdown",
   "id": "0757f7b2",
   "metadata": {},
   "source": [
    "Increasing the number of special channels of firm 1 in 5:"
   ]
  },
  {
   "cell_type": "code",
   "execution_count": 45,
   "id": "b9ee69de",
   "metadata": {},
   "outputs": [],
   "source": [
    "x_spec_new = np.array([8,3])"
   ]
  },
  {
   "cell_type": "code",
   "execution_count": 46,
   "id": "56215c9c",
   "metadata": {},
   "outputs": [
    {
     "data": {
      "text/plain": [
       "array([56.60223404, 48.15659938])"
      ]
     },
     "execution_count": 46,
     "metadata": {},
     "output_type": "execute_result"
    }
   ],
   "source": [
    "eq_prices(x_conv,x_spec_new,beta,sigma_min,mc)"
   ]
  }
 ],
 "metadata": {
  "kernelspec": {
   "display_name": "Python 3 (ipykernel)",
   "language": "python",
   "name": "python3"
  },
  "language_info": {
   "codemirror_mode": {
    "name": "ipython",
    "version": 3
   },
   "file_extension": ".py",
   "mimetype": "text/x-python",
   "name": "python",
   "nbconvert_exporter": "python",
   "pygments_lexer": "ipython3",
   "version": "3.7.4"
  }
 },
 "nbformat": 4,
 "nbformat_minor": 5
}
